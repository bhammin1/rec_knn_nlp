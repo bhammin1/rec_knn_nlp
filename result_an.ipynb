{
 "cells": [
  {
   "cell_type": "code",
   "execution_count": 128,
   "metadata": {},
   "outputs": [],
   "source": [
    "import pandas as pd\n",
    "import numpy as np\n",
    "\n",
    "import csv\n",
    "import news_rec as nr"
   ]
  },
  {
   "cell_type": "code",
   "execution_count": 129,
   "metadata": {},
   "outputs": [],
   "source": [
    "def load_tsv(file, cols):\n",
    "    '''\n",
    "    '''\n",
    "    df = pd.read_table(file,sep=\"\\t\", header=None, names=cols)\n",
    "\n",
    "    return df"
   ]
  },
  {
   "cell_type": "code",
   "execution_count": 130,
   "metadata": {},
   "outputs": [],
   "source": [
    "def get_data(file):\n",
    "    df = pd.read_csv(file)\n",
    "    \n",
    "    return df"
   ]
  },
  {
   "cell_type": "code",
   "execution_count": 133,
   "metadata": {},
   "outputs": [],
   "source": [
    "behav_cols = [\"impression_id\", \"user_id\",\"time\",\"history\",\"impressions\"]\n",
    "news_cols = [\"news_id\",\"category\",\"sub_category\",\"title\",\"abstract\",\"url\",\"title_entities\",\"abstract_entitites\"]\n",
    "news_df = load_tsv(\"./data/news.tsv\", news_cols)\n",
    "b_df = load_tsv(\"./data/behaviors.tsv\", behav_cols)"
   ]
  },
  {
   "cell_type": "code",
   "execution_count": 131,
   "metadata": {},
   "outputs": [
    {
     "name": "stdout",
     "output_type": "stream",
     "text": [
      "(509586, 6) (827783, 7)\n"
     ]
    }
   ],
   "source": [
    "hist, can = nr.all_preprocessing()"
   ]
  },
  {
   "cell_type": "code",
   "execution_count": 6,
   "metadata": {},
   "outputs": [
    {
     "data": {
      "text/html": [
       "<div>\n",
       "<style scoped>\n",
       "    .dataframe tbody tr th:only-of-type {\n",
       "        vertical-align: middle;\n",
       "    }\n",
       "\n",
       "    .dataframe tbody tr th {\n",
       "        vertical-align: top;\n",
       "    }\n",
       "\n",
       "    .dataframe thead th {\n",
       "        text-align: right;\n",
       "    }\n",
       "</style>\n",
       "<table border=\"1\" class=\"dataframe\">\n",
       "  <thead>\n",
       "    <tr style=\"text-align: right;\">\n",
       "      <th></th>\n",
       "      <th>user_id</th>\n",
       "      <th>preds</th>\n",
       "      <th>pred_1</th>\n",
       "      <th>pred_2</th>\n",
       "      <th>pred_3</th>\n",
       "      <th>pred_4</th>\n",
       "      <th>pred_5</th>\n",
       "    </tr>\n",
       "  </thead>\n",
       "  <tbody>\n",
       "    <tr>\n",
       "      <th>0</th>\n",
       "      <td>U27158</td>\n",
       "      <td>['N64174', 'N23877', 'N48017', 'N9623', 'N50872']</td>\n",
       "      <td>N64174</td>\n",
       "      <td>N23877</td>\n",
       "      <td>N48017</td>\n",
       "      <td>N9623</td>\n",
       "      <td>N50872</td>\n",
       "    </tr>\n",
       "    <tr>\n",
       "      <th>1</th>\n",
       "      <td>U60170</td>\n",
       "      <td>['N38779', 'N23446', 'N45523', 'N25165', 'N457...</td>\n",
       "      <td>N38779</td>\n",
       "      <td>N23446</td>\n",
       "      <td>N45523</td>\n",
       "      <td>N25165</td>\n",
       "      <td>N45734</td>\n",
       "    </tr>\n",
       "    <tr>\n",
       "      <th>2</th>\n",
       "      <td>U40758</td>\n",
       "      <td>['N23446', 'N40109', 'N38779', 'N62318', 'N341...</td>\n",
       "      <td>N23446</td>\n",
       "      <td>N40109</td>\n",
       "      <td>N38779</td>\n",
       "      <td>N62318</td>\n",
       "      <td>N34185</td>\n",
       "    </tr>\n",
       "    <tr>\n",
       "      <th>3</th>\n",
       "      <td>U60555</td>\n",
       "      <td>['N23446', 'N23877', 'N38779', 'N6477', 'N45523']</td>\n",
       "      <td>N23446</td>\n",
       "      <td>N23877</td>\n",
       "      <td>N38779</td>\n",
       "      <td>N6477</td>\n",
       "      <td>N45523</td>\n",
       "    </tr>\n",
       "    <tr>\n",
       "      <th>4</th>\n",
       "      <td>U57993</td>\n",
       "      <td>['N23446', 'N57733', 'N47652', 'N38779', 'N455...</td>\n",
       "      <td>N23446</td>\n",
       "      <td>N57733</td>\n",
       "      <td>N47652</td>\n",
       "      <td>N38779</td>\n",
       "      <td>N45523</td>\n",
       "    </tr>\n",
       "  </tbody>\n",
       "</table>\n",
       "</div>"
      ],
      "text/plain": [
       "  user_id                                              preds  pred_1  pred_2  \\\n",
       "0  U27158  ['N64174', 'N23877', 'N48017', 'N9623', 'N50872']  N64174  N23877   \n",
       "1  U60170  ['N38779', 'N23446', 'N45523', 'N25165', 'N457...  N38779  N23446   \n",
       "2  U40758  ['N23446', 'N40109', 'N38779', 'N62318', 'N341...  N23446  N40109   \n",
       "3  U60555  ['N23446', 'N23877', 'N38779', 'N6477', 'N45523']  N23446  N23877   \n",
       "4  U57993  ['N23446', 'N57733', 'N47652', 'N38779', 'N455...  N23446  N57733   \n",
       "\n",
       "   pred_3  pred_4  pred_5  \n",
       "0  N48017   N9623  N50872  \n",
       "1  N45523  N25165  N45734  \n",
       "2  N38779  N62318  N34185  \n",
       "3  N38779   N6477  N45523  \n",
       "4  N47652  N38779  N45523  "
      ]
     },
     "execution_count": 6,
     "metadata": {},
     "output_type": "execute_result"
    }
   ],
   "source": [
    "nn_result = get_data(\"./results/final/nn_cosine3_final.csv\")\n",
    "#nn_result = nn_result.rename(columns={\"prediction\":\"nn_pred\"}) \n",
    "nn_result.head(5)"
   ]
  },
  {
   "cell_type": "code",
   "execution_count": 7,
   "metadata": {},
   "outputs": [
    {
     "data": {
      "text/html": [
       "<div>\n",
       "<style scoped>\n",
       "    .dataframe tbody tr th:only-of-type {\n",
       "        vertical-align: middle;\n",
       "    }\n",
       "\n",
       "    .dataframe tbody tr th {\n",
       "        vertical-align: top;\n",
       "    }\n",
       "\n",
       "    .dataframe thead th {\n",
       "        text-align: right;\n",
       "    }\n",
       "</style>\n",
       "<table border=\"1\" class=\"dataframe\">\n",
       "  <thead>\n",
       "    <tr style=\"text-align: right;\">\n",
       "      <th></th>\n",
       "      <th>user_id</th>\n",
       "      <th>preds</th>\n",
       "      <th>pred_1</th>\n",
       "      <th>pred_2</th>\n",
       "      <th>pred_3</th>\n",
       "      <th>pred_4</th>\n",
       "      <th>pred_5</th>\n",
       "    </tr>\n",
       "  </thead>\n",
       "  <tbody>\n",
       "    <tr>\n",
       "      <th>0</th>\n",
       "      <td>U57255</td>\n",
       "      <td>['N64037', 'N46917', 'N60750', 'N22975', 'N500...</td>\n",
       "      <td>N64037</td>\n",
       "      <td>N46917</td>\n",
       "      <td>N60750</td>\n",
       "      <td>N22975</td>\n",
       "      <td>N50055</td>\n",
       "    </tr>\n",
       "    <tr>\n",
       "      <th>1</th>\n",
       "      <td>U66830</td>\n",
       "      <td>['N62318', 'N19661', 'N40109', 'N50872', 'N341...</td>\n",
       "      <td>N62318</td>\n",
       "      <td>N19661</td>\n",
       "      <td>N40109</td>\n",
       "      <td>N50872</td>\n",
       "      <td>N34185</td>\n",
       "    </tr>\n",
       "    <tr>\n",
       "      <th>2</th>\n",
       "      <td>U25497</td>\n",
       "      <td>['N41934', 'N61233', 'N56211', 'N14478', 'N277...</td>\n",
       "      <td>N41934</td>\n",
       "      <td>N61233</td>\n",
       "      <td>N56211</td>\n",
       "      <td>N14478</td>\n",
       "      <td>N27737</td>\n",
       "    </tr>\n",
       "    <tr>\n",
       "      <th>3</th>\n",
       "      <td>U27158</td>\n",
       "      <td>['N50872', 'N9623', 'N48017', 'N8015', 'N64174']</td>\n",
       "      <td>N50872</td>\n",
       "      <td>N9623</td>\n",
       "      <td>N48017</td>\n",
       "      <td>N8015</td>\n",
       "      <td>N64174</td>\n",
       "    </tr>\n",
       "    <tr>\n",
       "      <th>4</th>\n",
       "      <td>U89637</td>\n",
       "      <td>['N23446', 'N50872', 'N6477', 'N29212', 'N38779']</td>\n",
       "      <td>N23446</td>\n",
       "      <td>N50872</td>\n",
       "      <td>N6477</td>\n",
       "      <td>N29212</td>\n",
       "      <td>N38779</td>\n",
       "    </tr>\n",
       "  </tbody>\n",
       "</table>\n",
       "</div>"
      ],
      "text/plain": [
       "  user_id                                              preds  pred_1  pred_2  \\\n",
       "0  U57255  ['N64037', 'N46917', 'N60750', 'N22975', 'N500...  N64037  N46917   \n",
       "1  U66830  ['N62318', 'N19661', 'N40109', 'N50872', 'N341...  N62318  N19661   \n",
       "2  U25497  ['N41934', 'N61233', 'N56211', 'N14478', 'N277...  N41934  N61233   \n",
       "3  U27158   ['N50872', 'N9623', 'N48017', 'N8015', 'N64174']  N50872   N9623   \n",
       "4  U89637  ['N23446', 'N50872', 'N6477', 'N29212', 'N38779']  N23446  N50872   \n",
       "\n",
       "   pred_3  pred_4  pred_5  \n",
       "0  N60750  N22975  N50055  \n",
       "1  N40109  N50872  N34185  \n",
       "2  N56211  N14478  N27737  \n",
       "3  N48017   N8015  N64174  \n",
       "4   N6477  N29212  N38779  "
      ]
     },
     "execution_count": 7,
     "metadata": {},
     "output_type": "execute_result"
    }
   ],
   "source": [
    "sts_result = get_data(\"./results/final/sts_cosine3_final.csv\")\n",
    "#nn_result = nn_result.rename(columns={\"prediction\":\"nn_pred\"}) \n",
    "sts_result.head(5)"
   ]
  },
  {
   "cell_type": "code",
   "execution_count": 8,
   "metadata": {},
   "outputs": [
    {
     "data": {
      "text/html": [
       "<div>\n",
       "<style scoped>\n",
       "    .dataframe tbody tr th:only-of-type {\n",
       "        vertical-align: middle;\n",
       "    }\n",
       "\n",
       "    .dataframe tbody tr th {\n",
       "        vertical-align: top;\n",
       "    }\n",
       "\n",
       "    .dataframe thead th {\n",
       "        text-align: right;\n",
       "    }\n",
       "</style>\n",
       "<table border=\"1\" class=\"dataframe\">\n",
       "  <thead>\n",
       "    <tr style=\"text-align: right;\">\n",
       "      <th></th>\n",
       "      <th>user_id</th>\n",
       "      <th>preds</th>\n",
       "      <th>pred_1</th>\n",
       "      <th>pred_2</th>\n",
       "      <th>pred_3</th>\n",
       "      <th>pred_4</th>\n",
       "      <th>pred_5</th>\n",
       "    </tr>\n",
       "  </thead>\n",
       "  <tbody>\n",
       "    <tr>\n",
       "      <th>0</th>\n",
       "      <td>U57255</td>\n",
       "      <td>['N46917', 'N64037', 'N60750', 'N50055', 'N229...</td>\n",
       "      <td>N46917</td>\n",
       "      <td>N64037</td>\n",
       "      <td>N60750</td>\n",
       "      <td>N50055</td>\n",
       "      <td>N22975</td>\n",
       "    </tr>\n",
       "    <tr>\n",
       "      <th>1</th>\n",
       "      <td>U66830</td>\n",
       "      <td>['N62318', 'N1539', 'N40109', 'N50872', 'N38779']</td>\n",
       "      <td>N62318</td>\n",
       "      <td>N1539</td>\n",
       "      <td>N40109</td>\n",
       "      <td>N50872</td>\n",
       "      <td>N38779</td>\n",
       "    </tr>\n",
       "    <tr>\n",
       "      <th>2</th>\n",
       "      <td>U25497</td>\n",
       "      <td>['N56211', 'N14478', 'N41934', 'N61233', 'N528...</td>\n",
       "      <td>N56211</td>\n",
       "      <td>N14478</td>\n",
       "      <td>N41934</td>\n",
       "      <td>N61233</td>\n",
       "      <td>N52867</td>\n",
       "    </tr>\n",
       "    <tr>\n",
       "      <th>3</th>\n",
       "      <td>U27158</td>\n",
       "      <td>['N64174', 'N8015', 'N9623', 'N23877', 'N48017']</td>\n",
       "      <td>N64174</td>\n",
       "      <td>N8015</td>\n",
       "      <td>N9623</td>\n",
       "      <td>N23877</td>\n",
       "      <td>N48017</td>\n",
       "    </tr>\n",
       "    <tr>\n",
       "      <th>4</th>\n",
       "      <td>U89637</td>\n",
       "      <td>['N23446', 'N50872', 'N23877', 'N6477', 'N38779']</td>\n",
       "      <td>N23446</td>\n",
       "      <td>N50872</td>\n",
       "      <td>N23877</td>\n",
       "      <td>N6477</td>\n",
       "      <td>N38779</td>\n",
       "    </tr>\n",
       "  </tbody>\n",
       "</table>\n",
       "</div>"
      ],
      "text/plain": [
       "  user_id                                              preds  pred_1  pred_2  \\\n",
       "0  U57255  ['N46917', 'N64037', 'N60750', 'N50055', 'N229...  N46917  N64037   \n",
       "1  U66830  ['N62318', 'N1539', 'N40109', 'N50872', 'N38779']  N62318   N1539   \n",
       "2  U25497  ['N56211', 'N14478', 'N41934', 'N61233', 'N528...  N56211  N14478   \n",
       "3  U27158   ['N64174', 'N8015', 'N9623', 'N23877', 'N48017']  N64174   N8015   \n",
       "4  U89637  ['N23446', 'N50872', 'N23877', 'N6477', 'N38779']  N23446  N50872   \n",
       "\n",
       "   pred_3  pred_4  pred_5  \n",
       "0  N60750  N50055  N22975  \n",
       "1  N40109  N50872  N38779  \n",
       "2  N41934  N61233  N52867  \n",
       "3   N9623  N23877  N48017  \n",
       "4  N23877   N6477  N38779  "
      ]
     },
     "execution_count": 8,
     "metadata": {},
     "output_type": "execute_result"
    }
   ],
   "source": [
    "nli_result = get_data(\"./results/final/nli_cosine3_final.csv\")\n",
    "#nn_result = nn_result.rename(columns={\"prediction\":\"nn_pred\"}) \n",
    "nli_result.head(5)"
   ]
  },
  {
   "cell_type": "code",
   "execution_count": 134,
   "metadata": {},
   "outputs": [
    {
     "data": {
      "text/html": [
       "<div>\n",
       "<style scoped>\n",
       "    .dataframe tbody tr th:only-of-type {\n",
       "        vertical-align: middle;\n",
       "    }\n",
       "\n",
       "    .dataframe tbody tr th {\n",
       "        vertical-align: top;\n",
       "    }\n",
       "\n",
       "    .dataframe thead th {\n",
       "        text-align: right;\n",
       "    }\n",
       "</style>\n",
       "<table border=\"1\" class=\"dataframe\">\n",
       "  <thead>\n",
       "    <tr style=\"text-align: right;\">\n",
       "      <th></th>\n",
       "      <th>user_id</th>\n",
       "      <th>preds</th>\n",
       "      <th>pred_1</th>\n",
       "      <th>pred_2</th>\n",
       "      <th>pred_3</th>\n",
       "      <th>pred_4</th>\n",
       "      <th>pred_5</th>\n",
       "    </tr>\n",
       "  </thead>\n",
       "  <tbody>\n",
       "    <tr>\n",
       "      <th>0</th>\n",
       "      <td>U27158</td>\n",
       "      <td>['N64174', 'N23877', 'N48017', 'N9623', 'N50872']</td>\n",
       "      <td>N64174</td>\n",
       "      <td>N23877</td>\n",
       "      <td>N48017</td>\n",
       "      <td>N9623</td>\n",
       "      <td>N50872</td>\n",
       "    </tr>\n",
       "    <tr>\n",
       "      <th>1</th>\n",
       "      <td>U60170</td>\n",
       "      <td>['N38779', 'N23446', 'N45523', 'N25165', 'N457...</td>\n",
       "      <td>N38779</td>\n",
       "      <td>N23446</td>\n",
       "      <td>N45523</td>\n",
       "      <td>N25165</td>\n",
       "      <td>N45734</td>\n",
       "    </tr>\n",
       "    <tr>\n",
       "      <th>2</th>\n",
       "      <td>U40758</td>\n",
       "      <td>['N23446', 'N40109', 'N38779', 'N62318', 'N341...</td>\n",
       "      <td>N23446</td>\n",
       "      <td>N40109</td>\n",
       "      <td>N38779</td>\n",
       "      <td>N62318</td>\n",
       "      <td>N34185</td>\n",
       "    </tr>\n",
       "    <tr>\n",
       "      <th>3</th>\n",
       "      <td>U60555</td>\n",
       "      <td>['N23446', 'N23877', 'N38779', 'N6477', 'N45523']</td>\n",
       "      <td>N23446</td>\n",
       "      <td>N23877</td>\n",
       "      <td>N38779</td>\n",
       "      <td>N6477</td>\n",
       "      <td>N45523</td>\n",
       "    </tr>\n",
       "    <tr>\n",
       "      <th>4</th>\n",
       "      <td>U57993</td>\n",
       "      <td>['N23446', 'N57733', 'N47652', 'N38779', 'N455...</td>\n",
       "      <td>N23446</td>\n",
       "      <td>N57733</td>\n",
       "      <td>N47652</td>\n",
       "      <td>N38779</td>\n",
       "      <td>N45523</td>\n",
       "    </tr>\n",
       "  </tbody>\n",
       "</table>\n",
       "</div>"
      ],
      "text/plain": [
       "  user_id                                              preds  pred_1  pred_2  \\\n",
       "0  U27158  ['N64174', 'N23877', 'N48017', 'N9623', 'N50872']  N64174  N23877   \n",
       "1  U60170  ['N38779', 'N23446', 'N45523', 'N25165', 'N457...  N38779  N23446   \n",
       "2  U40758  ['N23446', 'N40109', 'N38779', 'N62318', 'N341...  N23446  N40109   \n",
       "3  U60555  ['N23446', 'N23877', 'N38779', 'N6477', 'N45523']  N23446  N23877   \n",
       "4  U57993  ['N23446', 'N57733', 'N47652', 'N38779', 'N455...  N23446  N57733   \n",
       "\n",
       "   pred_3  pred_4  pred_5  \n",
       "0  N48017   N9623  N50872  \n",
       "1  N45523  N25165  N45734  \n",
       "2  N38779  N62318  N34185  \n",
       "3  N38779   N6477  N45523  \n",
       "4  N47652  N38779  N45523  "
      ]
     },
     "execution_count": 134,
     "metadata": {},
     "output_type": "execute_result"
    }
   ],
   "source": [
    "nn_result_news = get_data(\"./results/final/nn_cosine3_final_news.csv\")\n",
    "#nn_result = nn_result.rename(columns={\"prediction\":\"nn_pred\"}) \n",
    "nn_result.head(5)"
   ]
  },
  {
   "cell_type": "code",
   "execution_count": 135,
   "metadata": {},
   "outputs": [
    {
     "data": {
      "text/html": [
       "<div>\n",
       "<style scoped>\n",
       "    .dataframe tbody tr th:only-of-type {\n",
       "        vertical-align: middle;\n",
       "    }\n",
       "\n",
       "    .dataframe tbody tr th {\n",
       "        vertical-align: top;\n",
       "    }\n",
       "\n",
       "    .dataframe thead th {\n",
       "        text-align: right;\n",
       "    }\n",
       "</style>\n",
       "<table border=\"1\" class=\"dataframe\">\n",
       "  <thead>\n",
       "    <tr style=\"text-align: right;\">\n",
       "      <th></th>\n",
       "      <th>user_id</th>\n",
       "      <th>preds</th>\n",
       "      <th>pred_1</th>\n",
       "      <th>pred_2</th>\n",
       "      <th>pred_3</th>\n",
       "      <th>pred_4</th>\n",
       "      <th>pred_5</th>\n",
       "    </tr>\n",
       "  </thead>\n",
       "  <tbody>\n",
       "    <tr>\n",
       "      <th>0</th>\n",
       "      <td>U57255</td>\n",
       "      <td>['N64037', 'N46917', 'N60750', 'N22975', 'N500...</td>\n",
       "      <td>N64037</td>\n",
       "      <td>N46917</td>\n",
       "      <td>N60750</td>\n",
       "      <td>N22975</td>\n",
       "      <td>N50055</td>\n",
       "    </tr>\n",
       "    <tr>\n",
       "      <th>1</th>\n",
       "      <td>U66830</td>\n",
       "      <td>['N62318', 'N19661', 'N40109', 'N50872', 'N341...</td>\n",
       "      <td>N62318</td>\n",
       "      <td>N19661</td>\n",
       "      <td>N40109</td>\n",
       "      <td>N50872</td>\n",
       "      <td>N34185</td>\n",
       "    </tr>\n",
       "    <tr>\n",
       "      <th>2</th>\n",
       "      <td>U25497</td>\n",
       "      <td>['N41934', 'N61233', 'N56211', 'N14478', 'N277...</td>\n",
       "      <td>N41934</td>\n",
       "      <td>N61233</td>\n",
       "      <td>N56211</td>\n",
       "      <td>N14478</td>\n",
       "      <td>N27737</td>\n",
       "    </tr>\n",
       "    <tr>\n",
       "      <th>3</th>\n",
       "      <td>U27158</td>\n",
       "      <td>['N50872', 'N9623', 'N48017', 'N8015', 'N64174']</td>\n",
       "      <td>N50872</td>\n",
       "      <td>N9623</td>\n",
       "      <td>N48017</td>\n",
       "      <td>N8015</td>\n",
       "      <td>N64174</td>\n",
       "    </tr>\n",
       "    <tr>\n",
       "      <th>4</th>\n",
       "      <td>U89637</td>\n",
       "      <td>['N23446', 'N50872', 'N6477', 'N29212', 'N38779']</td>\n",
       "      <td>N23446</td>\n",
       "      <td>N50872</td>\n",
       "      <td>N6477</td>\n",
       "      <td>N29212</td>\n",
       "      <td>N38779</td>\n",
       "    </tr>\n",
       "  </tbody>\n",
       "</table>\n",
       "</div>"
      ],
      "text/plain": [
       "  user_id                                              preds  pred_1  pred_2  \\\n",
       "0  U57255  ['N64037', 'N46917', 'N60750', 'N22975', 'N500...  N64037  N46917   \n",
       "1  U66830  ['N62318', 'N19661', 'N40109', 'N50872', 'N341...  N62318  N19661   \n",
       "2  U25497  ['N41934', 'N61233', 'N56211', 'N14478', 'N277...  N41934  N61233   \n",
       "3  U27158   ['N50872', 'N9623', 'N48017', 'N8015', 'N64174']  N50872   N9623   \n",
       "4  U89637  ['N23446', 'N50872', 'N6477', 'N29212', 'N38779']  N23446  N50872   \n",
       "\n",
       "   pred_3  pred_4  pred_5  \n",
       "0  N60750  N22975  N50055  \n",
       "1  N40109  N50872  N34185  \n",
       "2  N56211  N14478  N27737  \n",
       "3  N48017   N8015  N64174  \n",
       "4   N6477  N29212  N38779  "
      ]
     },
     "execution_count": 135,
     "metadata": {},
     "output_type": "execute_result"
    }
   ],
   "source": [
    "sts_result_news = get_data(\"./results/final/sts_cosine3_final_news.csv\")\n",
    "#nn_result = nn_result.rename(columns={\"prediction\":\"nn_pred\"}) \n",
    "sts_result.head(5)"
   ]
  },
  {
   "cell_type": "markdown",
   "metadata": {},
   "source": [
    "## Metric Meausures"
   ]
  },
  {
   "cell_type": "code",
   "execution_count": 11,
   "metadata": {},
   "outputs": [],
   "source": [
    "def get_acc(candidate, preds):\n",
    "    \n",
    "\n",
    "    results_df = candidate.merge(preds, left_on =[\"user_id\",\"news_id\"], right_on =[\"user_id\",\"pred_1\"] )\n",
    "\n",
    "    correct_preds = results_df.loc[results_df[\"label\"]=='1'].shape[0]\n",
    "    accuracy = correct_preds/results_df.shape[0]\n",
    "\n",
    "    return accuracy"
   ]
  },
  {
   "cell_type": "code",
   "execution_count": 35,
   "metadata": {},
   "outputs": [
    {
     "data": {
      "text/plain": [
       "0.25"
      ]
     },
     "execution_count": 35,
     "metadata": {},
     "output_type": "execute_result"
    }
   ],
   "source": [
    "nn_acc = get_acc(can, nn_result)\n",
    "nn_acc # previously was .059"
   ]
  },
  {
   "cell_type": "code",
   "execution_count": 132,
   "metadata": {},
   "outputs": [
    {
     "ename": "NameError",
     "evalue": "name 'nn_acc' is not defined",
     "output_type": "error",
     "traceback": [
      "\u001b[1;31m---------------------------------------------------------------------------\u001b[0m",
      "\u001b[1;31mNameError\u001b[0m                                 Traceback (most recent call last)",
      "Cell \u001b[1;32mIn[132], line 1\u001b[0m\n\u001b[1;32m----> 1\u001b[0m nn_acc\n",
      "\u001b[1;31mNameError\u001b[0m: name 'nn_acc' is not defined"
     ]
    }
   ],
   "source": [
    "nn_acc"
   ]
  },
  {
   "cell_type": "code",
   "execution_count": 36,
   "metadata": {},
   "outputs": [
    {
     "data": {
      "text/plain": [
       "0.23725834797891038"
      ]
     },
     "execution_count": 36,
     "metadata": {},
     "output_type": "execute_result"
    }
   ],
   "source": [
    "sts_acc = get_acc(can, sts_result)\n",
    "sts_acc # previously was .059"
   ]
  },
  {
   "cell_type": "code",
   "execution_count": 12,
   "metadata": {},
   "outputs": [
    {
     "data": {
      "text/plain": [
       "0.22300884955752212"
      ]
     },
     "execution_count": 12,
     "metadata": {},
     "output_type": "execute_result"
    }
   ],
   "source": [
    "nli_acc = get_acc(can, nli_result)\n",
    "nli_acc # previously was .059"
   ]
  },
  {
   "cell_type": "code",
   "execution_count": 13,
   "metadata": {},
   "outputs": [
    {
     "data": {
      "text/plain": [
       "0.14"
      ]
     },
     "execution_count": 13,
     "metadata": {},
     "output_type": "execute_result"
    }
   ],
   "source": [
    "nn_acc_news = get_acc(can, nn_result_news)\n",
    "nn_acc_news"
   ]
  },
  {
   "cell_type": "code",
   "execution_count": 14,
   "metadata": {},
   "outputs": [
    {
     "data": {
      "text/plain": [
       "0.1875"
      ]
     },
     "execution_count": 14,
     "metadata": {},
     "output_type": "execute_result"
    }
   ],
   "source": [
    "sts_acc_news = get_acc(can, sts_result_news)\n",
    "sts_acc_news # previously was .059"
   ]
  },
  {
   "cell_type": "code",
   "execution_count": 15,
   "metadata": {},
   "outputs": [],
   "source": [
    "def convert_recs_to_list(preds, candidate, cols):\n",
    "    new_col_names = []\n",
    "    all_df = []\n",
    "    for c in cols:\n",
    "        new_col = c + \"_relevant_ind\"\n",
    "        new_col_names.append(new_col)\n",
    "        results_df = candidate.merge(preds, left_on =[\"user_id\",\"news_id\"], right_on =[\"user_id\",c] )\n",
    "\n",
    "        results_df = results_df.rename(columns={\"label\":new_col})\n",
    "        results_df[new_col] = results_df[new_col].astype('int64')\n",
    "        results_df = results_df[['user_id',new_col]]\n",
    "        #print(results_df.head())\n",
    "        all_df.append(results_df)\n",
    "    # combine all dfs into one large df\n",
    "    df = all_df[0]\n",
    "    for d in all_df[1:]:\n",
    "        df = df.merge(d, on='user_id')\n",
    "\n",
    "    df[\"combined\"] = df[new_col_names].values.tolist()\n",
    "    return df\n"
   ]
  },
  {
   "cell_type": "code",
   "execution_count": 16,
   "metadata": {},
   "outputs": [],
   "source": [
    "def precision_at_k(df, k):\n",
    "    col = \"P@\"+str(k)\n",
    "\n",
    "    df[col] = df[\"combined\"].str[:k].map(sum)\n",
    "    df[col] = df[col]/k\n",
    "    return df,col"
   ]
  },
  {
   "cell_type": "code",
   "execution_count": 17,
   "metadata": {},
   "outputs": [],
   "source": [
    "def apk(df, k):\n",
    "    cols = []\n",
    "    for i in range(1, k+1):\n",
    "        df,col = precision_at_k(df, i)\n",
    "        cols.append(col)\n",
    "    \n",
    "    df[\"ap\"] = df[cols].sum(axis=1)\n",
    "    df[\"ap\"] = df[\"ap\"] /k\n",
    "    return df\n",
    "        "
   ]
  },
  {
   "cell_type": "code",
   "execution_count": 18,
   "metadata": {},
   "outputs": [],
   "source": [
    "def mapK(preds,candidate, cols,k):\n",
    "    df = convert_recs_to_list(preds, candidate, cols)\n",
    "    df = apk(df, k)\n",
    "    total = df[\"ap\"].sum()\n",
    "    return total/df.shape[0], df"
   ]
  },
  {
   "cell_type": "code",
   "execution_count": 37,
   "metadata": {},
   "outputs": [
    {
     "data": {
      "text/plain": [
       "0.20235042735042735"
      ]
     },
     "execution_count": 37,
     "metadata": {},
     "output_type": "execute_result"
    }
   ],
   "source": [
    "mapk3, df = mapK(nn_result, can, [\"pred_1\", \"pred_2\",\"pred_3\",\"pred_4\",\"pred_5\"],3)\n",
    "mapk3"
   ]
  },
  {
   "cell_type": "code",
   "execution_count": 38,
   "metadata": {},
   "outputs": [
    {
     "data": {
      "text/plain": [
       "0.18325641025641023"
      ]
     },
     "execution_count": 38,
     "metadata": {},
     "output_type": "execute_result"
    }
   ],
   "source": [
    "mapk5, df5 =mapK(nn_result, can, [\"pred_1\", \"pred_2\",\"pred_3\",\"pred_4\",\"pred_5\"],5)\n",
    "mapk5"
   ]
  },
  {
   "cell_type": "code",
   "execution_count": 19,
   "metadata": {},
   "outputs": [
    {
     "data": {
      "text/plain": [
       "0.25"
      ]
     },
     "execution_count": 19,
     "metadata": {},
     "output_type": "execute_result"
    }
   ],
   "source": [
    "mapk1, df1 = mapK(nn_result, can, [\"pred_1\", \"pred_2\",\"pred_3\",\"pred_4\",\"pred_5\"],1)\n",
    "mapk1"
   ]
  },
  {
   "cell_type": "code",
   "execution_count": 40,
   "metadata": {},
   "outputs": [
    {
     "name": "stdout",
     "output_type": "stream",
     "text": [
      "NN 1 0.25\n",
      "NN 3 0.20235042735042735\n",
      "NN 3 0.18325641025641023\n"
     ]
    }
   ],
   "source": [
    "print(\"NN 1\",mapk1)\n",
    "print(\"NN 3\",mapk3)\n",
    "print(\"NN 5\",mapk5)"
   ]
  },
  {
   "cell_type": "code",
   "execution_count": 42,
   "metadata": {},
   "outputs": [
    {
     "name": "stdout",
     "output_type": "stream",
     "text": [
      "STS 1 0.23725834797891038\n",
      "STS 3 0.21568053114626048\n",
      "STS 5 0.19995313415348565\n"
     ]
    }
   ],
   "source": [
    "sts_mapk3, df = mapK(sts_result, can, [\"pred_1\", \"pred_2\",\"pred_3\",\"pred_4\",\"pred_5\"],3)\n",
    "sts_mapk5, df = mapK(sts_result, can, [\"pred_1\", \"pred_2\",\"pred_3\",\"pred_4\",\"pred_5\"],5)\n",
    "sts_mapk1, df = mapK(sts_result, can, [\"pred_1\", \"pred_2\",\"pred_3\",\"pred_4\",\"pred_5\"],1)\n",
    "print(\"STS 1\",sts_mapk1)\n",
    "print(\"STS 3\",sts_mapk3)\n",
    "print(\"STS 5\",sts_mapk5)"
   ]
  },
  {
   "cell_type": "code",
   "execution_count": 20,
   "metadata": {},
   "outputs": [
    {
     "name": "stdout",
     "output_type": "stream",
     "text": [
      "NLI 1 0.22300884955752212\n",
      "NLI 3 0.2081612586037365\n",
      "NLI 3 0.19296755162241888\n"
     ]
    }
   ],
   "source": [
    "nli_mapk3, df = mapK(nli_result, can, [\"pred_1\", \"pred_2\",\"pred_3\",\"pred_4\",\"pred_5\"],3)\n",
    "nli_mapk5, df = mapK(nli_result, can, [\"pred_1\", \"pred_2\",\"pred_3\",\"pred_4\",\"pred_5\"],5)\n",
    "nli_mapk1, df = mapK(nli_result, can, [\"pred_1\", \"pred_2\",\"pred_3\",\"pred_4\",\"pred_5\"],1)\n",
    "print(\"NLI 1\",nli_mapk1)\n",
    "print(\"NLI 3\",nli_mapk3)\n",
    "print(\"NLI 3\",nli_mapk5)"
   ]
  },
  {
   "cell_type": "code",
   "execution_count": 22,
   "metadata": {},
   "outputs": [
    {
     "name": "stdout",
     "output_type": "stream",
     "text": [
      "STS News 1 0.16981132075471697\n",
      "STS News 3 0.16561844863731653\n",
      "STS News 5 0.14257861635220126\n"
     ]
    }
   ],
   "source": [
    "sts_mapk3_news, df = mapK(sts_result_news, can, [\"pred_1\", \"pred_2\",\"pred_3\",\"pred_4\",\"pred_5\"],3)\n",
    "sts_mapk5_news, df = mapK(sts_result_news, can, [\"pred_1\", \"pred_2\",\"pred_3\",\"pred_4\",\"pred_5\"],5)\n",
    "sts_mapk1_news, df = mapK(sts_result_news, can, [\"pred_1\", \"pred_2\",\"pred_3\",\"pred_4\",\"pred_5\"],1)\n",
    "print(\"STS News 1\",sts_mapk1_news)\n",
    "print(\"STS News 3\",sts_mapk3_news)\n",
    "print(\"STS News 5\",sts_mapk5_news)"
   ]
  },
  {
   "cell_type": "code",
   "execution_count": 23,
   "metadata": {},
   "outputs": [
    {
     "name": "stdout",
     "output_type": "stream",
     "text": [
      "NN News 1 0.14634146341463414\n",
      "NN News 3 0.12059620596205961\n",
      "NN News 5 0.1189430894308943\n"
     ]
    }
   ],
   "source": [
    "nn_mapk3_news, df = mapK(nn_result_news, can, [\"pred_1\", \"pred_2\",\"pred_3\",\"pred_4\",\"pred_5\"],3)\n",
    "nn_mapk5_news, df = mapK(nn_result_news, can, [\"pred_1\", \"pred_2\",\"pred_3\",\"pred_4\",\"pred_5\"],5)\n",
    "nn_mapk1_news, df = mapK(nn_result_news, can, [\"pred_1\", \"pred_2\",\"pred_3\",\"pred_4\",\"pred_5\"],1)\n",
    "print(\"NN News 1\",nn_mapk1_news)\n",
    "print(\"NN News 3\",nn_mapk3_news)\n",
    "print(\"NN News 5\",nn_mapk5_news)"
   ]
  },
  {
   "cell_type": "code",
   "execution_count": null,
   "metadata": {},
   "outputs": [],
   "source": [
    "# bias in data. Assumption that history of only news, means they would only wnat news in the future. "
   ]
  },
  {
   "cell_type": "markdown",
   "metadata": {},
   "source": [
    "## Get Examples"
   ]
  },
  {
   "cell_type": "code",
   "execution_count": 24,
   "metadata": {},
   "outputs": [
    {
     "data": {
      "text/html": [
       "<div>\n",
       "<style scoped>\n",
       "    .dataframe tbody tr th:only-of-type {\n",
       "        vertical-align: middle;\n",
       "    }\n",
       "\n",
       "    .dataframe tbody tr th {\n",
       "        vertical-align: top;\n",
       "    }\n",
       "\n",
       "    .dataframe thead th {\n",
       "        text-align: right;\n",
       "    }\n",
       "</style>\n",
       "<table border=\"1\" class=\"dataframe\">\n",
       "  <thead>\n",
       "    <tr style=\"text-align: right;\">\n",
       "      <th></th>\n",
       "      <th>user_id</th>\n",
       "      <th>preds</th>\n",
       "      <th>pred_1</th>\n",
       "      <th>pred_2</th>\n",
       "      <th>pred_3</th>\n",
       "      <th>pred_4</th>\n",
       "      <th>pred_5</th>\n",
       "    </tr>\n",
       "  </thead>\n",
       "  <tbody>\n",
       "    <tr>\n",
       "      <th>0</th>\n",
       "      <td>U27158</td>\n",
       "      <td>['N64174', 'N23877', 'N48017', 'N9623', 'N50872']</td>\n",
       "      <td>N64174</td>\n",
       "      <td>N23877</td>\n",
       "      <td>N48017</td>\n",
       "      <td>N9623</td>\n",
       "      <td>N50872</td>\n",
       "    </tr>\n",
       "    <tr>\n",
       "      <th>1</th>\n",
       "      <td>U60170</td>\n",
       "      <td>['N38779', 'N23446', 'N45523', 'N25165', 'N457...</td>\n",
       "      <td>N38779</td>\n",
       "      <td>N23446</td>\n",
       "      <td>N45523</td>\n",
       "      <td>N25165</td>\n",
       "      <td>N45734</td>\n",
       "    </tr>\n",
       "    <tr>\n",
       "      <th>2</th>\n",
       "      <td>U40758</td>\n",
       "      <td>['N23446', 'N40109', 'N38779', 'N62318', 'N341...</td>\n",
       "      <td>N23446</td>\n",
       "      <td>N40109</td>\n",
       "      <td>N38779</td>\n",
       "      <td>N62318</td>\n",
       "      <td>N34185</td>\n",
       "    </tr>\n",
       "    <tr>\n",
       "      <th>3</th>\n",
       "      <td>U60555</td>\n",
       "      <td>['N23446', 'N23877', 'N38779', 'N6477', 'N45523']</td>\n",
       "      <td>N23446</td>\n",
       "      <td>N23877</td>\n",
       "      <td>N38779</td>\n",
       "      <td>N6477</td>\n",
       "      <td>N45523</td>\n",
       "    </tr>\n",
       "    <tr>\n",
       "      <th>4</th>\n",
       "      <td>U57993</td>\n",
       "      <td>['N23446', 'N57733', 'N47652', 'N38779', 'N455...</td>\n",
       "      <td>N23446</td>\n",
       "      <td>N57733</td>\n",
       "      <td>N47652</td>\n",
       "      <td>N38779</td>\n",
       "      <td>N45523</td>\n",
       "    </tr>\n",
       "  </tbody>\n",
       "</table>\n",
       "</div>"
      ],
      "text/plain": [
       "  user_id                                              preds  pred_1  pred_2  \\\n",
       "0  U27158  ['N64174', 'N23877', 'N48017', 'N9623', 'N50872']  N64174  N23877   \n",
       "1  U60170  ['N38779', 'N23446', 'N45523', 'N25165', 'N457...  N38779  N23446   \n",
       "2  U40758  ['N23446', 'N40109', 'N38779', 'N62318', 'N341...  N23446  N40109   \n",
       "3  U60555  ['N23446', 'N23877', 'N38779', 'N6477', 'N45523']  N23446  N23877   \n",
       "4  U57993  ['N23446', 'N57733', 'N47652', 'N38779', 'N455...  N23446  N57733   \n",
       "\n",
       "   pred_3  pred_4  pred_5  \n",
       "0  N48017   N9623  N50872  \n",
       "1  N45523  N25165  N45734  \n",
       "2  N38779  N62318  N34185  \n",
       "3  N38779   N6477  N45523  \n",
       "4  N47652  N38779  N45523  "
      ]
     },
     "execution_count": 24,
     "metadata": {},
     "output_type": "execute_result"
    }
   ],
   "source": [
    "nn_result.head()"
   ]
  },
  {
   "cell_type": "code",
   "execution_count": 25,
   "metadata": {},
   "outputs": [
    {
     "data": {
      "text/html": [
       "<div>\n",
       "<style scoped>\n",
       "    .dataframe tbody tr th:only-of-type {\n",
       "        vertical-align: middle;\n",
       "    }\n",
       "\n",
       "    .dataframe tbody tr th {\n",
       "        vertical-align: top;\n",
       "    }\n",
       "\n",
       "    .dataframe thead th {\n",
       "        text-align: right;\n",
       "    }\n",
       "</style>\n",
       "<table border=\"1\" class=\"dataframe\">\n",
       "  <thead>\n",
       "    <tr style=\"text-align: right;\">\n",
       "      <th></th>\n",
       "      <th>user_id</th>\n",
       "      <th>date</th>\n",
       "      <th>news_id</th>\n",
       "      <th>label</th>\n",
       "      <th>category</th>\n",
       "      <th>sub_category</th>\n",
       "      <th>title</th>\n",
       "    </tr>\n",
       "  </thead>\n",
       "  <tbody>\n",
       "    <tr>\n",
       "      <th>6835</th>\n",
       "      <td>U27158</td>\n",
       "      <td>2019-11-14</td>\n",
       "      <td>N23877</td>\n",
       "      <td>0</td>\n",
       "      <td>[0, 0, 0, 0, 0, 0, 0, 0, 0, 0, 1, 0, 0, 0, 0, ...</td>\n",
       "      <td>[0, 0, 0, 0, 0, 0, 0, 0, 0, 0, 0, 0, 0, 0, 0, ...</td>\n",
       "      <td>Car of Marine linked to Virginia slaying is fo...</td>\n",
       "    </tr>\n",
       "    <tr>\n",
       "      <th>34346</th>\n",
       "      <td>U27158</td>\n",
       "      <td>2019-11-14</td>\n",
       "      <td>N64174</td>\n",
       "      <td>1</td>\n",
       "      <td>[0, 0, 0, 0, 0, 0, 0, 0, 0, 0, 1, 0, 0, 0, 0, ...</td>\n",
       "      <td>[0, 0, 0, 0, 0, 0, 0, 0, 0, 0, 0, 0, 0, 0, 0, ...</td>\n",
       "      <td>Georgia executes man convicted of killing conv...</td>\n",
       "    </tr>\n",
       "    <tr>\n",
       "      <th>60825</th>\n",
       "      <td>U27158</td>\n",
       "      <td>2019-11-14</td>\n",
       "      <td>N48017</td>\n",
       "      <td>0</td>\n",
       "      <td>[0, 0, 0, 0, 0, 0, 0, 0, 0, 0, 1, 0, 0, 0, 0, ...</td>\n",
       "      <td>[0, 0, 0, 0, 0, 0, 0, 0, 0, 0, 0, 0, 0, 0, 0, ...</td>\n",
       "      <td>Experts crack mystery of ancient Egypt's sacre...</td>\n",
       "    </tr>\n",
       "    <tr>\n",
       "      <th>65234</th>\n",
       "      <td>U27158</td>\n",
       "      <td>2019-11-14</td>\n",
       "      <td>N8015</td>\n",
       "      <td>0</td>\n",
       "      <td>[0, 0, 1, 0, 0, 0, 0, 0, 0, 0, 0, 0, 0, 0, 0, ...</td>\n",
       "      <td>[0, 0, 0, 0, 0, 0, 0, 0, 0, 0, 0, 0, 0, 0, 0, ...</td>\n",
       "      <td>Powell's Warning to Congress About the Next Re...</td>\n",
       "    </tr>\n",
       "    <tr>\n",
       "      <th>75329</th>\n",
       "      <td>U27158</td>\n",
       "      <td>2019-11-14</td>\n",
       "      <td>N40109</td>\n",
       "      <td>0</td>\n",
       "      <td>[0, 0, 0, 0, 0, 0, 0, 0, 0, 0, 0, 0, 0, 0, 0, ...</td>\n",
       "      <td>[0, 0, 0, 0, 0, 0, 0, 0, 0, 0, 0, 0, 0, 0, 0, ...</td>\n",
       "      <td>This Arctic blast is in its final day. But the...</td>\n",
       "    </tr>\n",
       "    <tr>\n",
       "      <th>120558</th>\n",
       "      <td>U27158</td>\n",
       "      <td>2019-11-14</td>\n",
       "      <td>N50872</td>\n",
       "      <td>0</td>\n",
       "      <td>[0, 0, 0, 0, 0, 0, 1, 0, 0, 0, 0, 0, 0, 0, 0, ...</td>\n",
       "      <td>[0, 0, 0, 0, 0, 0, 0, 0, 0, 0, 0, 0, 0, 0, 0, ...</td>\n",
       "      <td>50 amazing gifts for every type of person and ...</td>\n",
       "    </tr>\n",
       "    <tr>\n",
       "      <th>185452</th>\n",
       "      <td>U27158</td>\n",
       "      <td>2019-11-14</td>\n",
       "      <td>N9623</td>\n",
       "      <td>0</td>\n",
       "      <td>[0, 0, 0, 0, 0, 0, 0, 0, 0, 0, 1, 0, 0, 0, 0, ...</td>\n",
       "      <td>[0, 0, 0, 0, 0, 0, 0, 0, 0, 0, 0, 0, 0, 0, 0, ...</td>\n",
       "      <td>Israel says overnight strike on Gaza house kil...</td>\n",
       "    </tr>\n",
       "  </tbody>\n",
       "</table>\n",
       "</div>"
      ],
      "text/plain": [
       "       user_id        date news_id label  \\\n",
       "6835    U27158  2019-11-14  N23877     0   \n",
       "34346   U27158  2019-11-14  N64174     1   \n",
       "60825   U27158  2019-11-14  N48017     0   \n",
       "65234   U27158  2019-11-14   N8015     0   \n",
       "75329   U27158  2019-11-14  N40109     0   \n",
       "120558  U27158  2019-11-14  N50872     0   \n",
       "185452  U27158  2019-11-14   N9623     0   \n",
       "\n",
       "                                                 category  \\\n",
       "6835    [0, 0, 0, 0, 0, 0, 0, 0, 0, 0, 1, 0, 0, 0, 0, ...   \n",
       "34346   [0, 0, 0, 0, 0, 0, 0, 0, 0, 0, 1, 0, 0, 0, 0, ...   \n",
       "60825   [0, 0, 0, 0, 0, 0, 0, 0, 0, 0, 1, 0, 0, 0, 0, ...   \n",
       "65234   [0, 0, 1, 0, 0, 0, 0, 0, 0, 0, 0, 0, 0, 0, 0, ...   \n",
       "75329   [0, 0, 0, 0, 0, 0, 0, 0, 0, 0, 0, 0, 0, 0, 0, ...   \n",
       "120558  [0, 0, 0, 0, 0, 0, 1, 0, 0, 0, 0, 0, 0, 0, 0, ...   \n",
       "185452  [0, 0, 0, 0, 0, 0, 0, 0, 0, 0, 1, 0, 0, 0, 0, ...   \n",
       "\n",
       "                                             sub_category  \\\n",
       "6835    [0, 0, 0, 0, 0, 0, 0, 0, 0, 0, 0, 0, 0, 0, 0, ...   \n",
       "34346   [0, 0, 0, 0, 0, 0, 0, 0, 0, 0, 0, 0, 0, 0, 0, ...   \n",
       "60825   [0, 0, 0, 0, 0, 0, 0, 0, 0, 0, 0, 0, 0, 0, 0, ...   \n",
       "65234   [0, 0, 0, 0, 0, 0, 0, 0, 0, 0, 0, 0, 0, 0, 0, ...   \n",
       "75329   [0, 0, 0, 0, 0, 0, 0, 0, 0, 0, 0, 0, 0, 0, 0, ...   \n",
       "120558  [0, 0, 0, 0, 0, 0, 0, 0, 0, 0, 0, 0, 0, 0, 0, ...   \n",
       "185452  [0, 0, 0, 0, 0, 0, 0, 0, 0, 0, 0, 0, 0, 0, 0, ...   \n",
       "\n",
       "                                                    title  \n",
       "6835    Car of Marine linked to Virginia slaying is fo...  \n",
       "34346   Georgia executes man convicted of killing conv...  \n",
       "60825   Experts crack mystery of ancient Egypt's sacre...  \n",
       "65234   Powell's Warning to Congress About the Next Re...  \n",
       "75329   This Arctic blast is in its final day. But the...  \n",
       "120558  50 amazing gifts for every type of person and ...  \n",
       "185452  Israel says overnight strike on Gaza house kil...  "
      ]
     },
     "execution_count": 25,
     "metadata": {},
     "output_type": "execute_result"
    }
   ],
   "source": [
    "can[can[\"user_id\"] == \"U27158\"] # Good example of a hit, but only one hit"
   ]
  },
  {
   "cell_type": "code",
   "execution_count": 73,
   "metadata": {},
   "outputs": [
    {
     "data": {
      "text/plain": [
       "'Georgia executes man convicted of killing convenience store clerk'"
      ]
     },
     "execution_count": 73,
     "metadata": {},
     "output_type": "execute_result"
    }
   ],
   "source": [
    "news_df[news_df[\"news_id\"]==\"N64174\"][\"title\"].to_list()[0]"
   ]
  },
  {
   "cell_type": "code",
   "execution_count": 82,
   "metadata": {},
   "outputs": [
    {
     "data": {
      "text/html": [
       "<div>\n",
       "<style scoped>\n",
       "    .dataframe tbody tr th:only-of-type {\n",
       "        vertical-align: middle;\n",
       "    }\n",
       "\n",
       "    .dataframe tbody tr th {\n",
       "        vertical-align: top;\n",
       "    }\n",
       "\n",
       "    .dataframe thead th {\n",
       "        text-align: right;\n",
       "    }\n",
       "</style>\n",
       "<table border=\"1\" class=\"dataframe\">\n",
       "  <thead>\n",
       "    <tr style=\"text-align: right;\">\n",
       "      <th></th>\n",
       "      <th>user_id</th>\n",
       "      <th>date</th>\n",
       "      <th>news_id</th>\n",
       "      <th>category</th>\n",
       "      <th>sub_category</th>\n",
       "      <th>title</th>\n",
       "    </tr>\n",
       "  </thead>\n",
       "  <tbody>\n",
       "    <tr>\n",
       "      <th>533</th>\n",
       "      <td>U27158</td>\n",
       "      <td>2019-11-14</td>\n",
       "      <td>N46616</td>\n",
       "      <td>[0, 0, 0, 1, 0, 0, 0, 0, 0, 0, 0, 0, 0, 0, 0, ...</td>\n",
       "      <td>[0, 0, 0, 0, 0, 0, 0, 0, 0, 0, 0, 0, 0, 0, 0, ...</td>\n",
       "      <td>The best sandwich shop in every US state and DC</td>\n",
       "    </tr>\n",
       "    <tr>\n",
       "      <th>90417</th>\n",
       "      <td>U27158</td>\n",
       "      <td>2019-11-14</td>\n",
       "      <td>N16215</td>\n",
       "      <td>[0, 0, 0, 1, 0, 0, 0, 0, 0, 0, 0, 0, 0, 0, 0, ...</td>\n",
       "      <td>[0, 0, 0, 0, 0, 0, 0, 0, 0, 0, 0, 0, 0, 0, 0, ...</td>\n",
       "      <td>National Dessert Day: Where to get Free Desser...</td>\n",
       "    </tr>\n",
       "    <tr>\n",
       "      <th>254088</th>\n",
       "      <td>U27158</td>\n",
       "      <td>2019-11-14</td>\n",
       "      <td>N10120</td>\n",
       "      <td>[0, 0, 0, 0, 0, 0, 0, 0, 0, 0, 1, 0, 0, 0, 0, ...</td>\n",
       "      <td>[0, 0, 0, 0, 0, 0, 0, 0, 0, 0, 0, 0, 0, 0, 0, ...</td>\n",
       "      <td>Salmonella linked to ground beef</td>\n",
       "    </tr>\n",
       "    <tr>\n",
       "      <th>257098</th>\n",
       "      <td>U27158</td>\n",
       "      <td>2019-11-14</td>\n",
       "      <td>N18275</td>\n",
       "      <td>[0, 0, 0, 0, 0, 0, 1, 0, 0, 0, 0, 0, 0, 0, 0, ...</td>\n",
       "      <td>[0, 0, 0, 0, 0, 0, 0, 0, 0, 0, 0, 0, 0, 0, 0, ...</td>\n",
       "      <td>Jennifer Lopez Wore an Over-the-Top Sequined S...</td>\n",
       "    </tr>\n",
       "    <tr>\n",
       "      <th>273485</th>\n",
       "      <td>U27158</td>\n",
       "      <td>2019-11-14</td>\n",
       "      <td>N7376</td>\n",
       "      <td>[0, 0, 0, 0, 0, 0, 0, 0, 0, 0, 0, 0, 1, 0, 0, ...</td>\n",
       "      <td>[0, 0, 0, 0, 0, 0, 0, 0, 0, 0, 0, 0, 0, 0, 0, ...</td>\n",
       "      <td>AP source: Phillies agree to hire Joe Girardi ...</td>\n",
       "    </tr>\n",
       "    <tr>\n",
       "      <th>298852</th>\n",
       "      <td>U27158</td>\n",
       "      <td>2019-11-14</td>\n",
       "      <td>N49103</td>\n",
       "      <td>[0, 0, 0, 1, 0, 0, 0, 0, 0, 0, 0, 0, 0, 0, 0, ...</td>\n",
       "      <td>[0, 0, 0, 0, 0, 0, 0, 0, 0, 0, 0, 0, 0, 0, 0, ...</td>\n",
       "      <td>11 surprising things you didn't know about Oli...</td>\n",
       "    </tr>\n",
       "    <tr>\n",
       "      <th>326116</th>\n",
       "      <td>U27158</td>\n",
       "      <td>2019-11-14</td>\n",
       "      <td>N8745</td>\n",
       "      <td>[0, 0, 0, 0, 1, 0, 0, 0, 0, 0, 0, 0, 0, 0, 0, ...</td>\n",
       "      <td>[0, 0, 0, 0, 0, 0, 0, 0, 0, 0, 0, 0, 0, 0, 0, ...</td>\n",
       "      <td>The One Thing Kourtney Kardashian Drinks Every...</td>\n",
       "    </tr>\n",
       "    <tr>\n",
       "      <th>436676</th>\n",
       "      <td>U27158</td>\n",
       "      <td>2019-11-14</td>\n",
       "      <td>N55000</td>\n",
       "      <td>[0, 0, 0, 1, 0, 0, 0, 0, 0, 0, 0, 0, 0, 0, 0, ...</td>\n",
       "      <td>[0, 0, 0, 0, 0, 0, 0, 0, 0, 0, 0, 0, 0, 0, 0, ...</td>\n",
       "      <td>We compared Popeyes' discontinued chicken Po' ...</td>\n",
       "    </tr>\n",
       "    <tr>\n",
       "      <th>489779</th>\n",
       "      <td>U27158</td>\n",
       "      <td>2019-11-14</td>\n",
       "      <td>N36637</td>\n",
       "      <td>[0, 0, 0, 0, 0, 0, 0, 0, 0, 0, 1, 0, 0, 0, 0, ...</td>\n",
       "      <td>[0, 0, 0, 0, 0, 0, 0, 0, 0, 0, 0, 0, 0, 0, 0, ...</td>\n",
       "      <td>Saudi Arabia says it is not behind Iranian tan...</td>\n",
       "    </tr>\n",
       "  </tbody>\n",
       "</table>\n",
       "</div>"
      ],
      "text/plain": [
       "       user_id        date news_id  \\\n",
       "533     U27158  2019-11-14  N46616   \n",
       "90417   U27158  2019-11-14  N16215   \n",
       "254088  U27158  2019-11-14  N10120   \n",
       "257098  U27158  2019-11-14  N18275   \n",
       "273485  U27158  2019-11-14   N7376   \n",
       "298852  U27158  2019-11-14  N49103   \n",
       "326116  U27158  2019-11-14   N8745   \n",
       "436676  U27158  2019-11-14  N55000   \n",
       "489779  U27158  2019-11-14  N36637   \n",
       "\n",
       "                                                 category  \\\n",
       "533     [0, 0, 0, 1, 0, 0, 0, 0, 0, 0, 0, 0, 0, 0, 0, ...   \n",
       "90417   [0, 0, 0, 1, 0, 0, 0, 0, 0, 0, 0, 0, 0, 0, 0, ...   \n",
       "254088  [0, 0, 0, 0, 0, 0, 0, 0, 0, 0, 1, 0, 0, 0, 0, ...   \n",
       "257098  [0, 0, 0, 0, 0, 0, 1, 0, 0, 0, 0, 0, 0, 0, 0, ...   \n",
       "273485  [0, 0, 0, 0, 0, 0, 0, 0, 0, 0, 0, 0, 1, 0, 0, ...   \n",
       "298852  [0, 0, 0, 1, 0, 0, 0, 0, 0, 0, 0, 0, 0, 0, 0, ...   \n",
       "326116  [0, 0, 0, 0, 1, 0, 0, 0, 0, 0, 0, 0, 0, 0, 0, ...   \n",
       "436676  [0, 0, 0, 1, 0, 0, 0, 0, 0, 0, 0, 0, 0, 0, 0, ...   \n",
       "489779  [0, 0, 0, 0, 0, 0, 0, 0, 0, 0, 1, 0, 0, 0, 0, ...   \n",
       "\n",
       "                                             sub_category  \\\n",
       "533     [0, 0, 0, 0, 0, 0, 0, 0, 0, 0, 0, 0, 0, 0, 0, ...   \n",
       "90417   [0, 0, 0, 0, 0, 0, 0, 0, 0, 0, 0, 0, 0, 0, 0, ...   \n",
       "254088  [0, 0, 0, 0, 0, 0, 0, 0, 0, 0, 0, 0, 0, 0, 0, ...   \n",
       "257098  [0, 0, 0, 0, 0, 0, 0, 0, 0, 0, 0, 0, 0, 0, 0, ...   \n",
       "273485  [0, 0, 0, 0, 0, 0, 0, 0, 0, 0, 0, 0, 0, 0, 0, ...   \n",
       "298852  [0, 0, 0, 0, 0, 0, 0, 0, 0, 0, 0, 0, 0, 0, 0, ...   \n",
       "326116  [0, 0, 0, 0, 0, 0, 0, 0, 0, 0, 0, 0, 0, 0, 0, ...   \n",
       "436676  [0, 0, 0, 0, 0, 0, 0, 0, 0, 0, 0, 0, 0, 0, 0, ...   \n",
       "489779  [0, 0, 0, 0, 0, 0, 0, 0, 0, 0, 0, 0, 0, 0, 0, ...   \n",
       "\n",
       "                                                    title  \n",
       "533       The best sandwich shop in every US state and DC  \n",
       "90417   National Dessert Day: Where to get Free Desser...  \n",
       "254088                   Salmonella linked to ground beef  \n",
       "257098  Jennifer Lopez Wore an Over-the-Top Sequined S...  \n",
       "273485  AP source: Phillies agree to hire Joe Girardi ...  \n",
       "298852  11 surprising things you didn't know about Oli...  \n",
       "326116  The One Thing Kourtney Kardashian Drinks Every...  \n",
       "436676  We compared Popeyes' discontinued chicken Po' ...  \n",
       "489779  Saudi Arabia says it is not behind Iranian tan...  "
      ]
     },
     "execution_count": 82,
     "metadata": {},
     "output_type": "execute_result"
    }
   ],
   "source": [
    "hist[hist[\"user_id\"] == \"U27158\"]"
   ]
  },
  {
   "cell_type": "code",
   "execution_count": 75,
   "metadata": {},
   "outputs": [
    {
     "name": "stdout",
     "output_type": "stream",
     "text": [
      "The best sandwich shop in every US state and DC\n",
      "National Dessert Day: Where to get Free Dessert at Wendy's, TGI Friday and More\n",
      "Salmonella linked to ground beef\n",
      "Jennifer Lopez Wore an Over-the-Top Sequined Slit Dress to Work\n",
      "AP source: Phillies agree to hire Joe Girardi as manager\n",
      "11 surprising things you didn't know about Olive Garden\n",
      "The One Thing Kourtney Kardashian Drinks Every Morning for Younger-Looking Skin\n",
      "We compared Popeyes' discontinued chicken Po' Boy to its new fried chicken sandwich\n",
      "Saudi Arabia says it is not behind Iranian tanker struck in Red Sea\n"
     ]
    }
   ],
   "source": [
    "U27158_hist =hist[hist[\"user_id\"] == \"U27158\"][\"title\"].to_list()\n",
    "for t in U27158_hist:\n",
    "    print(t)"
   ]
  },
  {
   "cell_type": "code",
   "execution_count": 62,
   "metadata": {},
   "outputs": [
    {
     "data": {
      "text/html": [
       "<div>\n",
       "<style scoped>\n",
       "    .dataframe tbody tr th:only-of-type {\n",
       "        vertical-align: middle;\n",
       "    }\n",
       "\n",
       "    .dataframe tbody tr th {\n",
       "        vertical-align: top;\n",
       "    }\n",
       "\n",
       "    .dataframe thead th {\n",
       "        text-align: right;\n",
       "    }\n",
       "</style>\n",
       "<table border=\"1\" class=\"dataframe\">\n",
       "  <thead>\n",
       "    <tr style=\"text-align: right;\">\n",
       "      <th></th>\n",
       "      <th>user_id</th>\n",
       "      <th>preds</th>\n",
       "      <th>pred_1</th>\n",
       "      <th>pred_2</th>\n",
       "      <th>pred_3</th>\n",
       "      <th>pred_4</th>\n",
       "      <th>pred_5</th>\n",
       "    </tr>\n",
       "  </thead>\n",
       "  <tbody>\n",
       "    <tr>\n",
       "      <th>0</th>\n",
       "      <td>U27158</td>\n",
       "      <td>['N64174', 'N23877', 'N48017', 'N9623', 'N50872']</td>\n",
       "      <td>N64174</td>\n",
       "      <td>N23877</td>\n",
       "      <td>N48017</td>\n",
       "      <td>N9623</td>\n",
       "      <td>N50872</td>\n",
       "    </tr>\n",
       "  </tbody>\n",
       "</table>\n",
       "</div>"
      ],
      "text/plain": [
       "  user_id                                              preds  pred_1  pred_2  \\\n",
       "0  U27158  ['N64174', 'N23877', 'N48017', 'N9623', 'N50872']  N64174  N23877   \n",
       "\n",
       "   pred_3 pred_4  pred_5  \n",
       "0  N48017  N9623  N50872  "
      ]
     },
     "execution_count": 62,
     "metadata": {},
     "output_type": "execute_result"
    }
   ],
   "source": [
    "nn_result[nn_result[\"user_id\"] == \"U27158\"] # first ranking is the hit"
   ]
  },
  {
   "cell_type": "code",
   "execution_count": 64,
   "metadata": {},
   "outputs": [
    {
     "data": {
      "text/html": [
       "<div>\n",
       "<style scoped>\n",
       "    .dataframe tbody tr th:only-of-type {\n",
       "        vertical-align: middle;\n",
       "    }\n",
       "\n",
       "    .dataframe tbody tr th {\n",
       "        vertical-align: top;\n",
       "    }\n",
       "\n",
       "    .dataframe thead th {\n",
       "        text-align: right;\n",
       "    }\n",
       "</style>\n",
       "<table border=\"1\" class=\"dataframe\">\n",
       "  <thead>\n",
       "    <tr style=\"text-align: right;\">\n",
       "      <th></th>\n",
       "      <th>user_id</th>\n",
       "      <th>preds</th>\n",
       "      <th>pred_1</th>\n",
       "      <th>pred_2</th>\n",
       "      <th>pred_3</th>\n",
       "      <th>pred_4</th>\n",
       "      <th>pred_5</th>\n",
       "    </tr>\n",
       "  </thead>\n",
       "  <tbody>\n",
       "    <tr>\n",
       "      <th>3</th>\n",
       "      <td>U27158</td>\n",
       "      <td>['N50872', 'N9623', 'N48017', 'N8015', 'N64174']</td>\n",
       "      <td>N50872</td>\n",
       "      <td>N9623</td>\n",
       "      <td>N48017</td>\n",
       "      <td>N8015</td>\n",
       "      <td>N64174</td>\n",
       "    </tr>\n",
       "  </tbody>\n",
       "</table>\n",
       "</div>"
      ],
      "text/plain": [
       "  user_id                                             preds  pred_1 pred_2  \\\n",
       "3  U27158  ['N50872', 'N9623', 'N48017', 'N8015', 'N64174']  N50872  N9623   \n",
       "\n",
       "   pred_3 pred_4  pred_5  \n",
       "3  N48017  N8015  N64174  "
      ]
     },
     "execution_count": 64,
     "metadata": {},
     "output_type": "execute_result"
    }
   ],
   "source": [
    "sts_result[sts_result[\"user_id\"] == \"U27158\"] # last ranking is the hit"
   ]
  },
  {
   "cell_type": "code",
   "execution_count": 66,
   "metadata": {},
   "outputs": [
    {
     "data": {
      "text/html": [
       "<div>\n",
       "<style scoped>\n",
       "    .dataframe tbody tr th:only-of-type {\n",
       "        vertical-align: middle;\n",
       "    }\n",
       "\n",
       "    .dataframe tbody tr th {\n",
       "        vertical-align: top;\n",
       "    }\n",
       "\n",
       "    .dataframe thead th {\n",
       "        text-align: right;\n",
       "    }\n",
       "</style>\n",
       "<table border=\"1\" class=\"dataframe\">\n",
       "  <thead>\n",
       "    <tr style=\"text-align: right;\">\n",
       "      <th></th>\n",
       "      <th>user_id</th>\n",
       "      <th>preds</th>\n",
       "      <th>pred_1</th>\n",
       "      <th>pred_2</th>\n",
       "      <th>pred_3</th>\n",
       "      <th>pred_4</th>\n",
       "      <th>pred_5</th>\n",
       "    </tr>\n",
       "  </thead>\n",
       "  <tbody>\n",
       "    <tr>\n",
       "      <th>3</th>\n",
       "      <td>U27158</td>\n",
       "      <td>['N64174', 'N8015', 'N9623', 'N23877', 'N48017']</td>\n",
       "      <td>N64174</td>\n",
       "      <td>N8015</td>\n",
       "      <td>N9623</td>\n",
       "      <td>N23877</td>\n",
       "      <td>N48017</td>\n",
       "    </tr>\n",
       "  </tbody>\n",
       "</table>\n",
       "</div>"
      ],
      "text/plain": [
       "  user_id                                             preds  pred_1 pred_2  \\\n",
       "3  U27158  ['N64174', 'N8015', 'N9623', 'N23877', 'N48017']  N64174  N8015   \n",
       "\n",
       "  pred_3  pred_4  pred_5  \n",
       "3  N9623  N23877  N48017  "
      ]
     },
     "execution_count": 66,
     "metadata": {},
     "output_type": "execute_result"
    }
   ],
   "source": [
    "nli_result[nli_result[\"user_id\"] == \"U27158\"] # first ranking is a hit"
   ]
  },
  {
   "cell_type": "code",
   "execution_count": 74,
   "metadata": {},
   "outputs": [
    {
     "data": {
      "text/html": [
       "<div>\n",
       "<style scoped>\n",
       "    .dataframe tbody tr th:only-of-type {\n",
       "        vertical-align: middle;\n",
       "    }\n",
       "\n",
       "    .dataframe tbody tr th {\n",
       "        vertical-align: top;\n",
       "    }\n",
       "\n",
       "    .dataframe thead th {\n",
       "        text-align: right;\n",
       "    }\n",
       "</style>\n",
       "<table border=\"1\" class=\"dataframe\">\n",
       "  <thead>\n",
       "    <tr style=\"text-align: right;\">\n",
       "      <th></th>\n",
       "      <th>user_id</th>\n",
       "      <th>preds</th>\n",
       "      <th>pred_1</th>\n",
       "      <th>pred_2</th>\n",
       "      <th>pred_3</th>\n",
       "      <th>pred_4</th>\n",
       "      <th>pred_5</th>\n",
       "    </tr>\n",
       "  </thead>\n",
       "  <tbody>\n",
       "  </tbody>\n",
       "</table>\n",
       "</div>"
      ],
      "text/plain": [
       "Empty DataFrame\n",
       "Columns: [user_id, preds, pred_1, pred_2, pred_3, pred_4, pred_5]\n",
       "Index: []"
      ]
     },
     "execution_count": 74,
     "metadata": {},
     "output_type": "execute_result"
    }
   ],
   "source": [
    "nn_result_news[nn_result_news[\"user_id\"] == \"U27158\"]"
   ]
  },
  {
   "cell_type": "markdown",
   "metadata": {},
   "source": [
    "## Another Example"
   ]
  },
  {
   "cell_type": "code",
   "execution_count": 54,
   "metadata": {},
   "outputs": [],
   "source": [
    "labels = can[can[\"label\"]==\"1\"]\n",
    "user_labels = labels.groupby([\"user_id\"])[\"user_id\"].size().reset_index(name='counts')\n",
    "user_labels.sort_values(by=[\"counts\"])\n",
    "small_labels = user_labels[user_labels[\"counts\"] ==2]"
   ]
  },
  {
   "cell_type": "code",
   "execution_count": 48,
   "metadata": {},
   "outputs": [
    {
     "data": {
      "text/html": [
       "<div>\n",
       "<style scoped>\n",
       "    .dataframe tbody tr th:only-of-type {\n",
       "        vertical-align: middle;\n",
       "    }\n",
       "\n",
       "    .dataframe tbody tr th {\n",
       "        vertical-align: top;\n",
       "    }\n",
       "\n",
       "    .dataframe thead th {\n",
       "        text-align: right;\n",
       "    }\n",
       "</style>\n",
       "<table border=\"1\" class=\"dataframe\">\n",
       "  <thead>\n",
       "    <tr style=\"text-align: right;\">\n",
       "      <th></th>\n",
       "      <th>user_id</th>\n",
       "      <th>counts</th>\n",
       "    </tr>\n",
       "  </thead>\n",
       "  <tbody>\n",
       "    <tr>\n",
       "      <th>0</th>\n",
       "      <td>U1000</td>\n",
       "      <td>3</td>\n",
       "    </tr>\n",
       "    <tr>\n",
       "      <th>3</th>\n",
       "      <td>U10016</td>\n",
       "      <td>4</td>\n",
       "    </tr>\n",
       "    <tr>\n",
       "      <th>7</th>\n",
       "      <td>U10026</td>\n",
       "      <td>6</td>\n",
       "    </tr>\n",
       "    <tr>\n",
       "      <th>9</th>\n",
       "      <td>U10030</td>\n",
       "      <td>6</td>\n",
       "    </tr>\n",
       "    <tr>\n",
       "      <th>10</th>\n",
       "      <td>U10032</td>\n",
       "      <td>8</td>\n",
       "    </tr>\n",
       "    <tr>\n",
       "      <th>...</th>\n",
       "      <td>...</td>\n",
       "      <td>...</td>\n",
       "    </tr>\n",
       "    <tr>\n",
       "      <th>19696</th>\n",
       "      <td>U9983</td>\n",
       "      <td>3</td>\n",
       "    </tr>\n",
       "    <tr>\n",
       "      <th>19697</th>\n",
       "      <td>U9988</td>\n",
       "      <td>1</td>\n",
       "    </tr>\n",
       "    <tr>\n",
       "      <th>19699</th>\n",
       "      <td>U9991</td>\n",
       "      <td>4</td>\n",
       "    </tr>\n",
       "    <tr>\n",
       "      <th>19700</th>\n",
       "      <td>U9993</td>\n",
       "      <td>2</td>\n",
       "    </tr>\n",
       "    <tr>\n",
       "      <th>19702</th>\n",
       "      <td>U9996</td>\n",
       "      <td>5</td>\n",
       "    </tr>\n",
       "  </tbody>\n",
       "</table>\n",
       "<p>7261 rows × 2 columns</p>\n",
       "</div>"
      ],
      "text/plain": [
       "      user_id  counts\n",
       "0       U1000       3\n",
       "3      U10016       4\n",
       "7      U10026       6\n",
       "9      U10030       6\n",
       "10     U10032       8\n",
       "...       ...     ...\n",
       "19696   U9983       3\n",
       "19697   U9988       1\n",
       "19699   U9991       4\n",
       "19700   U9993       2\n",
       "19702   U9996       5\n",
       "\n",
       "[7261 rows x 2 columns]"
      ]
     },
     "execution_count": 48,
     "metadata": {},
     "output_type": "execute_result"
    }
   ],
   "source": [
    "\n",
    "small_hist = hist.groupby([\"user_id\"])[\"user_id\"].size().reset_index(name='counts')\n",
    "\n",
    "small_hist = small_hist[small_hist[\"counts\"] <=10]\n",
    "small_hist"
   ]
  },
  {
   "cell_type": "code",
   "execution_count": 55,
   "metadata": {},
   "outputs": [
    {
     "data": {
      "text/plain": [
       "{'U10056',\n",
       " 'U18205',\n",
       " 'U19082',\n",
       " 'U25653',\n",
       " 'U26127',\n",
       " 'U26384',\n",
       " 'U26584',\n",
       " 'U32069',\n",
       " 'U41661',\n",
       " 'U55722',\n",
       " 'U58683',\n",
       " 'U62590',\n",
       " 'U69594',\n",
       " 'U77167',\n",
       " 'U80182',\n",
       " 'U84475',\n",
       " 'U87295',\n",
       " 'U89702',\n",
       " 'U89775',\n",
       " 'U93721'}"
      ]
     },
     "execution_count": 55,
     "metadata": {},
     "output_type": "execute_result"
    }
   ],
   "source": [
    "# get the same\n",
    "potential= set(small_labels[\"user_id\"].to_list()).intersection(set(small_hist[\"user_id\"].to_list()))\n",
    "set(nn_result[\"user_id\"].to_list()).intersection(potential)"
   ]
  },
  {
   "cell_type": "code",
   "execution_count": 87,
   "metadata": {},
   "outputs": [
    {
     "data": {
      "text/html": [
       "<div>\n",
       "<style scoped>\n",
       "    .dataframe tbody tr th:only-of-type {\n",
       "        vertical-align: middle;\n",
       "    }\n",
       "\n",
       "    .dataframe tbody tr th {\n",
       "        vertical-align: top;\n",
       "    }\n",
       "\n",
       "    .dataframe thead th {\n",
       "        text-align: right;\n",
       "    }\n",
       "</style>\n",
       "<table border=\"1\" class=\"dataframe\">\n",
       "  <thead>\n",
       "    <tr style=\"text-align: right;\">\n",
       "      <th></th>\n",
       "      <th>user_id</th>\n",
       "      <th>date</th>\n",
       "      <th>news_id</th>\n",
       "      <th>label</th>\n",
       "      <th>category</th>\n",
       "      <th>sub_category</th>\n",
       "      <th>title</th>\n",
       "    </tr>\n",
       "  </thead>\n",
       "  <tbody>\n",
       "    <tr>\n",
       "      <th>721946</th>\n",
       "      <td>U89702</td>\n",
       "      <td>2019-11-14</td>\n",
       "      <td>N2235</td>\n",
       "      <td>1</td>\n",
       "      <td>[0, 0, 0, 0, 0, 0, 0, 0, 0, 0, 0, 0, 1, 0, 0, ...</td>\n",
       "      <td>[0, 0, 0, 0, 0, 0, 0, 0, 0, 0, 0, 0, 0, 0, 0, ...</td>\n",
       "      <td>LA Sweep: Angels' Trout, Dodgers' Bellinger wi...</td>\n",
       "    </tr>\n",
       "    <tr>\n",
       "      <th>729244</th>\n",
       "      <td>U89702</td>\n",
       "      <td>2019-11-14</td>\n",
       "      <td>N64037</td>\n",
       "      <td>1</td>\n",
       "      <td>[0, 0, 0, 0, 0, 0, 0, 0, 0, 0, 1, 0, 0, 0, 0, ...</td>\n",
       "      <td>[0, 0, 0, 0, 0, 0, 0, 0, 0, 0, 0, 0, 0, 0, 0, ...</td>\n",
       "      <td>Supermassive black hole ejects star from Milky...</td>\n",
       "    </tr>\n",
       "  </tbody>\n",
       "</table>\n",
       "</div>"
      ],
      "text/plain": [
       "       user_id        date news_id label  \\\n",
       "721946  U89702  2019-11-14   N2235     1   \n",
       "729244  U89702  2019-11-14  N64037     1   \n",
       "\n",
       "                                                 category  \\\n",
       "721946  [0, 0, 0, 0, 0, 0, 0, 0, 0, 0, 0, 0, 1, 0, 0, ...   \n",
       "729244  [0, 0, 0, 0, 0, 0, 0, 0, 0, 0, 1, 0, 0, 0, 0, ...   \n",
       "\n",
       "                                             sub_category  \\\n",
       "721946  [0, 0, 0, 0, 0, 0, 0, 0, 0, 0, 0, 0, 0, 0, 0, ...   \n",
       "729244  [0, 0, 0, 0, 0, 0, 0, 0, 0, 0, 0, 0, 0, 0, 0, ...   \n",
       "\n",
       "                                                    title  \n",
       "721946  LA Sweep: Angels' Trout, Dodgers' Bellinger wi...  \n",
       "729244  Supermassive black hole ejects star from Milky...  "
      ]
     },
     "execution_count": 87,
     "metadata": {},
     "output_type": "execute_result"
    }
   ],
   "source": [
    "can[(can[\"user_id\"] == \"U89702\") & (can[\"label\"] == \"1\")]"
   ]
  },
  {
   "cell_type": "code",
   "execution_count": 94,
   "metadata": {},
   "outputs": [
    {
     "data": {
      "text/plain": [
       "'Supermassive black hole ejects star from Milky Way Galaxy'"
      ]
     },
     "execution_count": 94,
     "metadata": {},
     "output_type": "execute_result"
    }
   ],
   "source": [
    "news_df[news_df[\"news_id\"]==\"N64037\"][\"title\"].to_list()[0]"
   ]
  },
  {
   "cell_type": "code",
   "execution_count": 88,
   "metadata": {},
   "outputs": [
    {
     "data": {
      "text/html": [
       "<div>\n",
       "<style scoped>\n",
       "    .dataframe tbody tr th:only-of-type {\n",
       "        vertical-align: middle;\n",
       "    }\n",
       "\n",
       "    .dataframe tbody tr th {\n",
       "        vertical-align: top;\n",
       "    }\n",
       "\n",
       "    .dataframe thead th {\n",
       "        text-align: right;\n",
       "    }\n",
       "</style>\n",
       "<table border=\"1\" class=\"dataframe\">\n",
       "  <thead>\n",
       "    <tr style=\"text-align: right;\">\n",
       "      <th></th>\n",
       "      <th>user_id</th>\n",
       "      <th>preds</th>\n",
       "      <th>pred_1</th>\n",
       "      <th>pred_2</th>\n",
       "      <th>pred_3</th>\n",
       "      <th>pred_4</th>\n",
       "      <th>pred_5</th>\n",
       "    </tr>\n",
       "  </thead>\n",
       "  <tbody>\n",
       "    <tr>\n",
       "      <th>145</th>\n",
       "      <td>U89702</td>\n",
       "      <td>['N47652', 'N46917', 'N41934', 'N2960', 'N50055']</td>\n",
       "      <td>N47652</td>\n",
       "      <td>N46917</td>\n",
       "      <td>N41934</td>\n",
       "      <td>N2960</td>\n",
       "      <td>N50055</td>\n",
       "    </tr>\n",
       "  </tbody>\n",
       "</table>\n",
       "</div>"
      ],
      "text/plain": [
       "    user_id                                              preds  pred_1  \\\n",
       "145  U89702  ['N47652', 'N46917', 'N41934', 'N2960', 'N50055']  N47652   \n",
       "\n",
       "     pred_2  pred_3 pred_4  pred_5  \n",
       "145  N46917  N41934  N2960  N50055  "
      ]
     },
     "execution_count": 88,
     "metadata": {},
     "output_type": "execute_result"
    }
   ],
   "source": [
    "nn_result[(nn_result[\"user_id\"] == \"U89702\")] # last value a hit. Second article not hit"
   ]
  },
  {
   "cell_type": "code",
   "execution_count": 89,
   "metadata": {},
   "outputs": [
    {
     "data": {
      "text/html": [
       "<div>\n",
       "<style scoped>\n",
       "    .dataframe tbody tr th:only-of-type {\n",
       "        vertical-align: middle;\n",
       "    }\n",
       "\n",
       "    .dataframe tbody tr th {\n",
       "        vertical-align: top;\n",
       "    }\n",
       "\n",
       "    .dataframe thead th {\n",
       "        text-align: right;\n",
       "    }\n",
       "</style>\n",
       "<table border=\"1\" class=\"dataframe\">\n",
       "  <thead>\n",
       "    <tr style=\"text-align: right;\">\n",
       "      <th></th>\n",
       "      <th>user_id</th>\n",
       "      <th>preds</th>\n",
       "      <th>pred_1</th>\n",
       "      <th>pred_2</th>\n",
       "      <th>pred_3</th>\n",
       "      <th>pred_4</th>\n",
       "      <th>pred_5</th>\n",
       "    </tr>\n",
       "  </thead>\n",
       "  <tbody>\n",
       "    <tr>\n",
       "      <th>300</th>\n",
       "      <td>U89702</td>\n",
       "      <td>['N47652', 'N50055', 'N2235', 'N2960', 'N22975']</td>\n",
       "      <td>N47652</td>\n",
       "      <td>N50055</td>\n",
       "      <td>N2235</td>\n",
       "      <td>N2960</td>\n",
       "      <td>N22975</td>\n",
       "    </tr>\n",
       "  </tbody>\n",
       "</table>\n",
       "</div>"
      ],
      "text/plain": [
       "    user_id                                             preds  pred_1  pred_2  \\\n",
       "300  U89702  ['N47652', 'N50055', 'N2235', 'N2960', 'N22975']  N47652  N50055   \n",
       "\n",
       "    pred_3 pred_4  pred_5  \n",
       "300  N2235  N2960  N22975  "
      ]
     },
     "execution_count": 89,
     "metadata": {},
     "output_type": "execute_result"
    }
   ],
   "source": [
    "sts_result[(sts_result[\"user_id\"] == \"U89702\")]"
   ]
  },
  {
   "cell_type": "code",
   "execution_count": 90,
   "metadata": {},
   "outputs": [
    {
     "data": {
      "text/html": [
       "<div>\n",
       "<style scoped>\n",
       "    .dataframe tbody tr th:only-of-type {\n",
       "        vertical-align: middle;\n",
       "    }\n",
       "\n",
       "    .dataframe tbody tr th {\n",
       "        vertical-align: top;\n",
       "    }\n",
       "\n",
       "    .dataframe thead th {\n",
       "        text-align: right;\n",
       "    }\n",
       "</style>\n",
       "<table border=\"1\" class=\"dataframe\">\n",
       "  <thead>\n",
       "    <tr style=\"text-align: right;\">\n",
       "      <th></th>\n",
       "      <th>user_id</th>\n",
       "      <th>preds</th>\n",
       "      <th>pred_1</th>\n",
       "      <th>pred_2</th>\n",
       "      <th>pred_3</th>\n",
       "      <th>pred_4</th>\n",
       "      <th>pred_5</th>\n",
       "    </tr>\n",
       "  </thead>\n",
       "  <tbody>\n",
       "    <tr>\n",
       "      <th>302</th>\n",
       "      <td>U89702</td>\n",
       "      <td>['N50055', 'N22975', 'N27737', 'N2960', 'N47652']</td>\n",
       "      <td>N50055</td>\n",
       "      <td>N22975</td>\n",
       "      <td>N27737</td>\n",
       "      <td>N2960</td>\n",
       "      <td>N47652</td>\n",
       "    </tr>\n",
       "  </tbody>\n",
       "</table>\n",
       "</div>"
      ],
      "text/plain": [
       "    user_id                                              preds  pred_1  \\\n",
       "302  U89702  ['N50055', 'N22975', 'N27737', 'N2960', 'N47652']  N50055   \n",
       "\n",
       "     pred_2  pred_3 pred_4  pred_5  \n",
       "302  N22975  N27737  N2960  N47652  "
      ]
     },
     "execution_count": 90,
     "metadata": {},
     "output_type": "execute_result"
    }
   ],
   "source": [
    "nli_result[(nli_result[\"user_id\"] == \"U89702\")]"
   ]
  },
  {
   "cell_type": "code",
   "execution_count": 56,
   "metadata": {},
   "outputs": [
    {
     "data": {
      "text/html": [
       "<div>\n",
       "<style scoped>\n",
       "    .dataframe tbody tr th:only-of-type {\n",
       "        vertical-align: middle;\n",
       "    }\n",
       "\n",
       "    .dataframe tbody tr th {\n",
       "        vertical-align: top;\n",
       "    }\n",
       "\n",
       "    .dataframe thead th {\n",
       "        text-align: right;\n",
       "    }\n",
       "</style>\n",
       "<table border=\"1\" class=\"dataframe\">\n",
       "  <thead>\n",
       "    <tr style=\"text-align: right;\">\n",
       "      <th></th>\n",
       "      <th>user_id</th>\n",
       "      <th>date</th>\n",
       "      <th>news_id</th>\n",
       "      <th>label</th>\n",
       "      <th>category</th>\n",
       "      <th>sub_category</th>\n",
       "      <th>title</th>\n",
       "    </tr>\n",
       "  </thead>\n",
       "  <tbody>\n",
       "    <tr>\n",
       "      <th>416281</th>\n",
       "      <td>U10056</td>\n",
       "      <td>2019-11-14</td>\n",
       "      <td>N61233</td>\n",
       "      <td>1</td>\n",
       "      <td>[0, 0, 0, 0, 0, 0, 0, 0, 0, 0, 0, 0, 0, 0, 0, ...</td>\n",
       "      <td>[0, 0, 0, 0, 0, 0, 0, 0, 0, 0, 0, 0, 0, 0, 0, ...</td>\n",
       "      <td>Nor'easter to grind at US East Coast this weekend</td>\n",
       "    </tr>\n",
       "    <tr>\n",
       "      <th>661802</th>\n",
       "      <td>U10056</td>\n",
       "      <td>2019-11-14</td>\n",
       "      <td>N16118</td>\n",
       "      <td>1</td>\n",
       "      <td>[0, 0, 0, 0, 0, 0, 0, 0, 0, 0, 0, 0, 0, 1, 0, ...</td>\n",
       "      <td>[0, 0, 0, 0, 0, 0, 0, 0, 0, 0, 0, 0, 0, 0, 0, ...</td>\n",
       "      <td>There are 14 cheap days to fly left in 2019: W...</td>\n",
       "    </tr>\n",
       "  </tbody>\n",
       "</table>\n",
       "</div>"
      ],
      "text/plain": [
       "       user_id        date news_id label  \\\n",
       "416281  U10056  2019-11-14  N61233     1   \n",
       "661802  U10056  2019-11-14  N16118     1   \n",
       "\n",
       "                                                 category  \\\n",
       "416281  [0, 0, 0, 0, 0, 0, 0, 0, 0, 0, 0, 0, 0, 0, 0, ...   \n",
       "661802  [0, 0, 0, 0, 0, 0, 0, 0, 0, 0, 0, 0, 0, 1, 0, ...   \n",
       "\n",
       "                                             sub_category  \\\n",
       "416281  [0, 0, 0, 0, 0, 0, 0, 0, 0, 0, 0, 0, 0, 0, 0, ...   \n",
       "661802  [0, 0, 0, 0, 0, 0, 0, 0, 0, 0, 0, 0, 0, 0, 0, ...   \n",
       "\n",
       "                                                    title  \n",
       "416281  Nor'easter to grind at US East Coast this weekend  \n",
       "661802  There are 14 cheap days to fly left in 2019: W...  "
      ]
     },
     "execution_count": 56,
     "metadata": {},
     "output_type": "execute_result"
    }
   ],
   "source": [
    "can[(can[\"user_id\"] == \"U10056\") & (can[\"label\"] == \"1\")]"
   ]
  },
  {
   "cell_type": "code",
   "execution_count": 57,
   "metadata": {},
   "outputs": [
    {
     "data": {
      "text/html": [
       "<div>\n",
       "<style scoped>\n",
       "    .dataframe tbody tr th:only-of-type {\n",
       "        vertical-align: middle;\n",
       "    }\n",
       "\n",
       "    .dataframe tbody tr th {\n",
       "        vertical-align: top;\n",
       "    }\n",
       "\n",
       "    .dataframe thead th {\n",
       "        text-align: right;\n",
       "    }\n",
       "</style>\n",
       "<table border=\"1\" class=\"dataframe\">\n",
       "  <thead>\n",
       "    <tr style=\"text-align: right;\">\n",
       "      <th></th>\n",
       "      <th>user_id</th>\n",
       "      <th>date</th>\n",
       "      <th>news_id</th>\n",
       "      <th>category</th>\n",
       "      <th>sub_category</th>\n",
       "      <th>title</th>\n",
       "    </tr>\n",
       "  </thead>\n",
       "  <tbody>\n",
       "    <tr>\n",
       "      <th>98711</th>\n",
       "      <td>U10056</td>\n",
       "      <td>2019-11-14</td>\n",
       "      <td>N58518</td>\n",
       "      <td>[0, 0, 0, 0, 0, 0, 0, 0, 0, 0, 1, 0, 0, 0, 0, ...</td>\n",
       "      <td>[0, 0, 0, 0, 0, 0, 0, 0, 0, 0, 0, 0, 0, 0, 0, ...</td>\n",
       "      <td>Former President Jimmy Carter suffers pelvic f...</td>\n",
       "    </tr>\n",
       "    <tr>\n",
       "      <th>150584</th>\n",
       "      <td>U10056</td>\n",
       "      <td>2019-11-14</td>\n",
       "      <td>N54536</td>\n",
       "      <td>[0, 0, 0, 0, 0, 0, 0, 0, 0, 0, 1, 0, 0, 0, 0, ...</td>\n",
       "      <td>[0, 0, 0, 0, 0, 0, 0, 0, 0, 0, 0, 0, 0, 0, 0, ...</td>\n",
       "      <td>4 High School Students Killed in Texas Car Cra...</td>\n",
       "    </tr>\n",
       "    <tr>\n",
       "      <th>168747</th>\n",
       "      <td>U10056</td>\n",
       "      <td>2019-11-14</td>\n",
       "      <td>N7046</td>\n",
       "      <td>[0, 0, 0, 0, 0, 0, 0, 0, 0, 0, 0, 0, 0, 1, 0, ...</td>\n",
       "      <td>[0, 0, 0, 0, 0, 0, 0, 0, 0, 0, 0, 0, 0, 0, 0, ...</td>\n",
       "      <td>50 Budget-Friendly RV Campgrounds to Check Out</td>\n",
       "    </tr>\n",
       "    <tr>\n",
       "      <th>209444</th>\n",
       "      <td>U10056</td>\n",
       "      <td>2019-11-14</td>\n",
       "      <td>N54822</td>\n",
       "      <td>[0, 0, 0, 0, 1, 0, 0, 0, 0, 0, 0, 0, 0, 0, 0, ...</td>\n",
       "      <td>[0, 0, 0, 0, 0, 0, 0, 0, 0, 0, 0, 0, 0, 0, 0, ...</td>\n",
       "      <td>If You Don't Eat a Banana Every Day, This Migh...</td>\n",
       "    </tr>\n",
       "    <tr>\n",
       "      <th>249101</th>\n",
       "      <td>U10056</td>\n",
       "      <td>2019-11-14</td>\n",
       "      <td>N34331</td>\n",
       "      <td>[1, 0, 0, 0, 0, 0, 0, 0, 0, 0, 0, 0, 0, 0, 0, ...</td>\n",
       "      <td>[0, 0, 0, 0, 0, 0, 0, 0, 0, 0, 0, 0, 0, 0, 1, ...</td>\n",
       "      <td>Tesla \"Cybertruck\" Electric Pickup Debut Set F...</td>\n",
       "    </tr>\n",
       "    <tr>\n",
       "      <th>261979</th>\n",
       "      <td>U10056</td>\n",
       "      <td>2019-11-14</td>\n",
       "      <td>N26727</td>\n",
       "      <td>[0, 0, 0, 0, 0, 0, 0, 0, 0, 0, 1, 0, 0, 0, 0, ...</td>\n",
       "      <td>[0, 0, 0, 0, 0, 0, 0, 0, 0, 0, 0, 0, 0, 0, 0, ...</td>\n",
       "      <td>'I like my body and that's all that really mat...</td>\n",
       "    </tr>\n",
       "  </tbody>\n",
       "</table>\n",
       "</div>"
      ],
      "text/plain": [
       "       user_id        date news_id  \\\n",
       "98711   U10056  2019-11-14  N58518   \n",
       "150584  U10056  2019-11-14  N54536   \n",
       "168747  U10056  2019-11-14   N7046   \n",
       "209444  U10056  2019-11-14  N54822   \n",
       "249101  U10056  2019-11-14  N34331   \n",
       "261979  U10056  2019-11-14  N26727   \n",
       "\n",
       "                                                 category  \\\n",
       "98711   [0, 0, 0, 0, 0, 0, 0, 0, 0, 0, 1, 0, 0, 0, 0, ...   \n",
       "150584  [0, 0, 0, 0, 0, 0, 0, 0, 0, 0, 1, 0, 0, 0, 0, ...   \n",
       "168747  [0, 0, 0, 0, 0, 0, 0, 0, 0, 0, 0, 0, 0, 1, 0, ...   \n",
       "209444  [0, 0, 0, 0, 1, 0, 0, 0, 0, 0, 0, 0, 0, 0, 0, ...   \n",
       "249101  [1, 0, 0, 0, 0, 0, 0, 0, 0, 0, 0, 0, 0, 0, 0, ...   \n",
       "261979  [0, 0, 0, 0, 0, 0, 0, 0, 0, 0, 1, 0, 0, 0, 0, ...   \n",
       "\n",
       "                                             sub_category  \\\n",
       "98711   [0, 0, 0, 0, 0, 0, 0, 0, 0, 0, 0, 0, 0, 0, 0, ...   \n",
       "150584  [0, 0, 0, 0, 0, 0, 0, 0, 0, 0, 0, 0, 0, 0, 0, ...   \n",
       "168747  [0, 0, 0, 0, 0, 0, 0, 0, 0, 0, 0, 0, 0, 0, 0, ...   \n",
       "209444  [0, 0, 0, 0, 0, 0, 0, 0, 0, 0, 0, 0, 0, 0, 0, ...   \n",
       "249101  [0, 0, 0, 0, 0, 0, 0, 0, 0, 0, 0, 0, 0, 0, 1, ...   \n",
       "261979  [0, 0, 0, 0, 0, 0, 0, 0, 0, 0, 0, 0, 0, 0, 0, ...   \n",
       "\n",
       "                                                    title  \n",
       "98711   Former President Jimmy Carter suffers pelvic f...  \n",
       "150584  4 High School Students Killed in Texas Car Cra...  \n",
       "168747     50 Budget-Friendly RV Campgrounds to Check Out  \n",
       "209444  If You Don't Eat a Banana Every Day, This Migh...  \n",
       "249101  Tesla \"Cybertruck\" Electric Pickup Debut Set F...  \n",
       "261979  'I like my body and that's all that really mat...  "
      ]
     },
     "execution_count": 57,
     "metadata": {},
     "output_type": "execute_result"
    }
   ],
   "source": [
    "hist[(hist[\"user_id\"] == \"U10056\")]"
   ]
  },
  {
   "cell_type": "code",
   "execution_count": 58,
   "metadata": {},
   "outputs": [
    {
     "data": {
      "text/html": [
       "<div>\n",
       "<style scoped>\n",
       "    .dataframe tbody tr th:only-of-type {\n",
       "        vertical-align: middle;\n",
       "    }\n",
       "\n",
       "    .dataframe tbody tr th {\n",
       "        vertical-align: top;\n",
       "    }\n",
       "\n",
       "    .dataframe thead th {\n",
       "        text-align: right;\n",
       "    }\n",
       "</style>\n",
       "<table border=\"1\" class=\"dataframe\">\n",
       "  <thead>\n",
       "    <tr style=\"text-align: right;\">\n",
       "      <th></th>\n",
       "      <th>user_id</th>\n",
       "      <th>preds</th>\n",
       "      <th>pred_1</th>\n",
       "      <th>pred_2</th>\n",
       "      <th>pred_3</th>\n",
       "      <th>pred_4</th>\n",
       "      <th>pred_5</th>\n",
       "    </tr>\n",
       "  </thead>\n",
       "  <tbody>\n",
       "    <tr>\n",
       "      <th>209</th>\n",
       "      <td>U10056</td>\n",
       "      <td>['N52867', 'N45523', 'N56211', 'N1031', 'N16118']</td>\n",
       "      <td>N52867</td>\n",
       "      <td>N45523</td>\n",
       "      <td>N56211</td>\n",
       "      <td>N1031</td>\n",
       "      <td>N16118</td>\n",
       "    </tr>\n",
       "  </tbody>\n",
       "</table>\n",
       "</div>"
      ],
      "text/plain": [
       "    user_id                                              preds  pred_1  \\\n",
       "209  U10056  ['N52867', 'N45523', 'N56211', 'N1031', 'N16118']  N52867   \n",
       "\n",
       "     pred_2  pred_3 pred_4  pred_5  \n",
       "209  N45523  N56211  N1031  N16118  "
      ]
     },
     "execution_count": 58,
     "metadata": {},
     "output_type": "execute_result"
    }
   ],
   "source": [
    "nn_result[(nn_result[\"user_id\"] == \"U10056\")] # last value a hit. Second article not hit"
   ]
  },
  {
   "cell_type": "code",
   "execution_count": 59,
   "metadata": {},
   "outputs": [
    {
     "data": {
      "text/html": [
       "<div>\n",
       "<style scoped>\n",
       "    .dataframe tbody tr th:only-of-type {\n",
       "        vertical-align: middle;\n",
       "    }\n",
       "\n",
       "    .dataframe tbody tr th {\n",
       "        vertical-align: top;\n",
       "    }\n",
       "\n",
       "    .dataframe thead th {\n",
       "        text-align: right;\n",
       "    }\n",
       "</style>\n",
       "<table border=\"1\" class=\"dataframe\">\n",
       "  <thead>\n",
       "    <tr style=\"text-align: right;\">\n",
       "      <th></th>\n",
       "      <th>user_id</th>\n",
       "      <th>preds</th>\n",
       "      <th>pred_1</th>\n",
       "      <th>pred_2</th>\n",
       "      <th>pred_3</th>\n",
       "      <th>pred_4</th>\n",
       "      <th>pred_5</th>\n",
       "    </tr>\n",
       "  </thead>\n",
       "  <tbody>\n",
       "    <tr>\n",
       "      <th>435</th>\n",
       "      <td>U10056</td>\n",
       "      <td>['N56211', 'N1031', 'N14478', 'N52867', 'N16118']</td>\n",
       "      <td>N56211</td>\n",
       "      <td>N1031</td>\n",
       "      <td>N14478</td>\n",
       "      <td>N52867</td>\n",
       "      <td>N16118</td>\n",
       "    </tr>\n",
       "  </tbody>\n",
       "</table>\n",
       "</div>"
      ],
      "text/plain": [
       "    user_id                                              preds  pred_1 pred_2  \\\n",
       "435  U10056  ['N56211', 'N1031', 'N14478', 'N52867', 'N16118']  N56211  N1031   \n",
       "\n",
       "     pred_3  pred_4  pred_5  \n",
       "435  N14478  N52867  N16118  "
      ]
     },
     "execution_count": 59,
     "metadata": {},
     "output_type": "execute_result"
    }
   ],
   "source": [
    "sts_result[(sts_result[\"user_id\"] == \"U10056\")] # last article a hit. Second article not a hit"
   ]
  },
  {
   "cell_type": "code",
   "execution_count": 61,
   "metadata": {},
   "outputs": [
    {
     "data": {
      "text/html": [
       "<div>\n",
       "<style scoped>\n",
       "    .dataframe tbody tr th:only-of-type {\n",
       "        vertical-align: middle;\n",
       "    }\n",
       "\n",
       "    .dataframe tbody tr th {\n",
       "        vertical-align: top;\n",
       "    }\n",
       "\n",
       "    .dataframe thead th {\n",
       "        text-align: right;\n",
       "    }\n",
       "</style>\n",
       "<table border=\"1\" class=\"dataframe\">\n",
       "  <thead>\n",
       "    <tr style=\"text-align: right;\">\n",
       "      <th></th>\n",
       "      <th>user_id</th>\n",
       "      <th>preds</th>\n",
       "      <th>pred_1</th>\n",
       "      <th>pred_2</th>\n",
       "      <th>pred_3</th>\n",
       "      <th>pred_4</th>\n",
       "      <th>pred_5</th>\n",
       "    </tr>\n",
       "  </thead>\n",
       "  <tbody>\n",
       "    <tr>\n",
       "      <th>436</th>\n",
       "      <td>U10056</td>\n",
       "      <td>['N56211', 'N27737', 'N16118', 'N41934', 'N528...</td>\n",
       "      <td>N56211</td>\n",
       "      <td>N27737</td>\n",
       "      <td>N16118</td>\n",
       "      <td>N41934</td>\n",
       "      <td>N52867</td>\n",
       "    </tr>\n",
       "  </tbody>\n",
       "</table>\n",
       "</div>"
      ],
      "text/plain": [
       "    user_id                                              preds  pred_1  \\\n",
       "436  U10056  ['N56211', 'N27737', 'N16118', 'N41934', 'N528...  N56211   \n",
       "\n",
       "     pred_2  pred_3  pred_4  pred_5  \n",
       "436  N27737  N16118  N41934  N52867  "
      ]
     },
     "execution_count": 61,
     "metadata": {},
     "output_type": "execute_result"
    }
   ],
   "source": [
    "nli_result[(nli_result[\"user_id\"] == \"U10056\")] # prediction ranked hiring, but second article not a hit"
   ]
  },
  {
   "cell_type": "code",
   "execution_count": null,
   "metadata": {},
   "outputs": [],
   "source": [
    "## Example 2"
   ]
  },
  {
   "cell_type": "code",
   "execution_count": 67,
   "metadata": {},
   "outputs": [
    {
     "data": {
      "text/html": [
       "<div>\n",
       "<style scoped>\n",
       "    .dataframe tbody tr th:only-of-type {\n",
       "        vertical-align: middle;\n",
       "    }\n",
       "\n",
       "    .dataframe tbody tr th {\n",
       "        vertical-align: top;\n",
       "    }\n",
       "\n",
       "    .dataframe thead th {\n",
       "        text-align: right;\n",
       "    }\n",
       "</style>\n",
       "<table border=\"1\" class=\"dataframe\">\n",
       "  <thead>\n",
       "    <tr style=\"text-align: right;\">\n",
       "      <th></th>\n",
       "      <th>user_id</th>\n",
       "      <th>date</th>\n",
       "      <th>news_id</th>\n",
       "      <th>label</th>\n",
       "      <th>category</th>\n",
       "      <th>sub_category</th>\n",
       "      <th>title</th>\n",
       "    </tr>\n",
       "  </thead>\n",
       "  <tbody>\n",
       "    <tr>\n",
       "      <th>66376</th>\n",
       "      <td>U18205</td>\n",
       "      <td>2019-11-14</td>\n",
       "      <td>N8015</td>\n",
       "      <td>1</td>\n",
       "      <td>[0, 0, 1, 0, 0, 0, 0, 0, 0, 0, 0, 0, 0, 0, 0, ...</td>\n",
       "      <td>[0, 0, 0, 0, 0, 0, 0, 0, 0, 0, 0, 0, 0, 0, 0, ...</td>\n",
       "      <td>Powell's Warning to Congress About the Next Re...</td>\n",
       "    </tr>\n",
       "    <tr>\n",
       "      <th>78277</th>\n",
       "      <td>U18205</td>\n",
       "      <td>2019-11-14</td>\n",
       "      <td>N40109</td>\n",
       "      <td>1</td>\n",
       "      <td>[0, 0, 0, 0, 0, 0, 0, 0, 0, 0, 0, 0, 0, 0, 0, ...</td>\n",
       "      <td>[0, 0, 0, 0, 0, 0, 0, 0, 0, 0, 0, 0, 0, 0, 0, ...</td>\n",
       "      <td>This Arctic blast is in its final day. But the...</td>\n",
       "    </tr>\n",
       "  </tbody>\n",
       "</table>\n",
       "</div>"
      ],
      "text/plain": [
       "      user_id        date news_id label  \\\n",
       "66376  U18205  2019-11-14   N8015     1   \n",
       "78277  U18205  2019-11-14  N40109     1   \n",
       "\n",
       "                                                category  \\\n",
       "66376  [0, 0, 1, 0, 0, 0, 0, 0, 0, 0, 0, 0, 0, 0, 0, ...   \n",
       "78277  [0, 0, 0, 0, 0, 0, 0, 0, 0, 0, 0, 0, 0, 0, 0, ...   \n",
       "\n",
       "                                            sub_category  \\\n",
       "66376  [0, 0, 0, 0, 0, 0, 0, 0, 0, 0, 0, 0, 0, 0, 0, ...   \n",
       "78277  [0, 0, 0, 0, 0, 0, 0, 0, 0, 0, 0, 0, 0, 0, 0, ...   \n",
       "\n",
       "                                                   title  \n",
       "66376  Powell's Warning to Congress About the Next Re...  \n",
       "78277  This Arctic blast is in its final day. But the...  "
      ]
     },
     "execution_count": 67,
     "metadata": {},
     "output_type": "execute_result"
    }
   ],
   "source": [
    "can[(can[\"user_id\"] == \"U18205\") & (can[\"label\"] == \"1\")]"
   ]
  },
  {
   "cell_type": "code",
   "execution_count": 86,
   "metadata": {},
   "outputs": [
    {
     "data": {
      "text/plain": [
       "\"This Arctic blast is in its final day. But the cold isn't over quite yet\""
      ]
     },
     "execution_count": 86,
     "metadata": {},
     "output_type": "execute_result"
    }
   ],
   "source": [
    "news_df[news_df[\"news_id\"]==\"N40109\"][\"title\"].to_list()[0]"
   ]
  },
  {
   "cell_type": "code",
   "execution_count": 68,
   "metadata": {},
   "outputs": [
    {
     "data": {
      "text/html": [
       "<div>\n",
       "<style scoped>\n",
       "    .dataframe tbody tr th:only-of-type {\n",
       "        vertical-align: middle;\n",
       "    }\n",
       "\n",
       "    .dataframe tbody tr th {\n",
       "        vertical-align: top;\n",
       "    }\n",
       "\n",
       "    .dataframe thead th {\n",
       "        text-align: right;\n",
       "    }\n",
       "</style>\n",
       "<table border=\"1\" class=\"dataframe\">\n",
       "  <thead>\n",
       "    <tr style=\"text-align: right;\">\n",
       "      <th></th>\n",
       "      <th>user_id</th>\n",
       "      <th>preds</th>\n",
       "      <th>pred_1</th>\n",
       "      <th>pred_2</th>\n",
       "      <th>pred_3</th>\n",
       "      <th>pred_4</th>\n",
       "      <th>pred_5</th>\n",
       "    </tr>\n",
       "  </thead>\n",
       "  <tbody>\n",
       "    <tr>\n",
       "      <th>43</th>\n",
       "      <td>U18205</td>\n",
       "      <td>['N64174', 'N23877', 'N48017', 'N8015', 'N50872']</td>\n",
       "      <td>N64174</td>\n",
       "      <td>N23877</td>\n",
       "      <td>N48017</td>\n",
       "      <td>N8015</td>\n",
       "      <td>N50872</td>\n",
       "    </tr>\n",
       "  </tbody>\n",
       "</table>\n",
       "</div>"
      ],
      "text/plain": [
       "   user_id                                              preds  pred_1  pred_2  \\\n",
       "43  U18205  ['N64174', 'N23877', 'N48017', 'N8015', 'N50872']  N64174  N23877   \n",
       "\n",
       "    pred_3 pred_4  pred_5  \n",
       "43  N48017  N8015  N50872  "
      ]
     },
     "execution_count": 68,
     "metadata": {},
     "output_type": "execute_result"
    }
   ],
   "source": [
    "nn_result[(nn_result[\"user_id\"] == \"U18205\")] # no hit"
   ]
  },
  {
   "cell_type": "code",
   "execution_count": 69,
   "metadata": {},
   "outputs": [
    {
     "data": {
      "text/html": [
       "<div>\n",
       "<style scoped>\n",
       "    .dataframe tbody tr th:only-of-type {\n",
       "        vertical-align: middle;\n",
       "    }\n",
       "\n",
       "    .dataframe tbody tr th {\n",
       "        vertical-align: top;\n",
       "    }\n",
       "\n",
       "    .dataframe thead th {\n",
       "        text-align: right;\n",
       "    }\n",
       "</style>\n",
       "<table border=\"1\" class=\"dataframe\">\n",
       "  <thead>\n",
       "    <tr style=\"text-align: right;\">\n",
       "      <th></th>\n",
       "      <th>user_id</th>\n",
       "      <th>preds</th>\n",
       "      <th>pred_1</th>\n",
       "      <th>pred_2</th>\n",
       "      <th>pred_3</th>\n",
       "      <th>pred_4</th>\n",
       "      <th>pred_5</th>\n",
       "    </tr>\n",
       "  </thead>\n",
       "  <tbody>\n",
       "    <tr>\n",
       "      <th>94</th>\n",
       "      <td>U18205</td>\n",
       "      <td>['N23877', 'N48017', 'N40559', 'N40109', 'N8015']</td>\n",
       "      <td>N23877</td>\n",
       "      <td>N48017</td>\n",
       "      <td>N40559</td>\n",
       "      <td>N40109</td>\n",
       "      <td>N8015</td>\n",
       "    </tr>\n",
       "  </tbody>\n",
       "</table>\n",
       "</div>"
      ],
      "text/plain": [
       "   user_id                                              preds  pred_1  pred_2  \\\n",
       "94  U18205  ['N23877', 'N48017', 'N40559', 'N40109', 'N8015']  N23877  N48017   \n",
       "\n",
       "    pred_3  pred_4 pred_5  \n",
       "94  N40559  N40109  N8015  "
      ]
     },
     "execution_count": 69,
     "metadata": {},
     "output_type": "execute_result"
    }
   ],
   "source": [
    "sts_result[(sts_result[\"user_id\"] == \"U18205\")] # both hit"
   ]
  },
  {
   "cell_type": "code",
   "execution_count": 70,
   "metadata": {},
   "outputs": [
    {
     "data": {
      "text/html": [
       "<div>\n",
       "<style scoped>\n",
       "    .dataframe tbody tr th:only-of-type {\n",
       "        vertical-align: middle;\n",
       "    }\n",
       "\n",
       "    .dataframe tbody tr th {\n",
       "        vertical-align: top;\n",
       "    }\n",
       "\n",
       "    .dataframe thead th {\n",
       "        text-align: right;\n",
       "    }\n",
       "</style>\n",
       "<table border=\"1\" class=\"dataframe\">\n",
       "  <thead>\n",
       "    <tr style=\"text-align: right;\">\n",
       "      <th></th>\n",
       "      <th>user_id</th>\n",
       "      <th>preds</th>\n",
       "      <th>pred_1</th>\n",
       "      <th>pred_2</th>\n",
       "      <th>pred_3</th>\n",
       "      <th>pred_4</th>\n",
       "      <th>pred_5</th>\n",
       "    </tr>\n",
       "  </thead>\n",
       "  <tbody>\n",
       "    <tr>\n",
       "      <th>97</th>\n",
       "      <td>U18205</td>\n",
       "      <td>['N64174', 'N8015', 'N48017', 'N23877', 'N50872']</td>\n",
       "      <td>N64174</td>\n",
       "      <td>N8015</td>\n",
       "      <td>N48017</td>\n",
       "      <td>N23877</td>\n",
       "      <td>N50872</td>\n",
       "    </tr>\n",
       "  </tbody>\n",
       "</table>\n",
       "</div>"
      ],
      "text/plain": [
       "   user_id                                              preds  pred_1 pred_2  \\\n",
       "97  U18205  ['N64174', 'N8015', 'N48017', 'N23877', 'N50872']  N64174  N8015   \n",
       "\n",
       "    pred_3  pred_4  pred_5  \n",
       "97  N48017  N23877  N50872  "
      ]
     },
     "execution_count": 70,
     "metadata": {},
     "output_type": "execute_result"
    }
   ],
   "source": [
    "nli_result[(nli_result[\"user_id\"] == \"U18205\")] # both hit"
   ]
  },
  {
   "cell_type": "markdown",
   "metadata": {},
   "source": [
    "## Examples from Last Experiment"
   ]
  },
  {
   "cell_type": "code",
   "execution_count": 147,
   "metadata": {},
   "outputs": [
    {
     "data": {
      "text/plain": [
       "['U7166',\n",
       " 'U27916',\n",
       " 'U13035',\n",
       " 'U35908',\n",
       " 'U81464',\n",
       " 'U47748',\n",
       " 'U64616',\n",
       " 'U10731',\n",
       " 'U20454',\n",
       " 'U53090',\n",
       " 'U12509',\n",
       " 'U52602',\n",
       " 'U36447',\n",
       " 'U31003',\n",
       " 'U91571',\n",
       " 'U25823',\n",
       " 'U22845',\n",
       " 'U39900',\n",
       " 'U76497',\n",
       " 'U50973']"
      ]
     },
     "execution_count": 147,
     "metadata": {},
     "output_type": "execute_result"
    }
   ],
   "source": [
    "nn_result_news[\"user_id\"].to_list()[20:40]"
   ]
  },
  {
   "cell_type": "code",
   "execution_count": 148,
   "metadata": {},
   "outputs": [
    {
     "data": {
      "text/plain": [
       "['N34876-0 N4913-0 N13907-0 N26025-1 N21420-0 N51048-0 N39010-0 N287-0 N59673-0 N4642-0 N47061-0']"
      ]
     },
     "execution_count": 148,
     "metadata": {},
     "output_type": "execute_result"
    }
   ],
   "source": [
    "b_df[b_df[\"user_id\"]==\"U7166\"][\"impressions\"].to_list()"
   ]
  },
  {
   "cell_type": "code",
   "execution_count": 152,
   "metadata": {},
   "outputs": [
    {
     "data": {
      "text/html": [
       "<div>\n",
       "<style scoped>\n",
       "    .dataframe tbody tr th:only-of-type {\n",
       "        vertical-align: middle;\n",
       "    }\n",
       "\n",
       "    .dataframe tbody tr th {\n",
       "        vertical-align: top;\n",
       "    }\n",
       "\n",
       "    .dataframe thead th {\n",
       "        text-align: right;\n",
       "    }\n",
       "</style>\n",
       "<table border=\"1\" class=\"dataframe\">\n",
       "  <thead>\n",
       "    <tr style=\"text-align: right;\">\n",
       "      <th></th>\n",
       "      <th>news_id</th>\n",
       "      <th>category</th>\n",
       "      <th>sub_category</th>\n",
       "      <th>title</th>\n",
       "      <th>abstract</th>\n",
       "      <th>url</th>\n",
       "      <th>title_entities</th>\n",
       "      <th>abstract_entitites</th>\n",
       "    </tr>\n",
       "  </thead>\n",
       "  <tbody>\n",
       "    <tr>\n",
       "      <th>45132</th>\n",
       "      <td>N26025</td>\n",
       "      <td>news</td>\n",
       "      <td>newspolitics</td>\n",
       "      <td>Bannon calls Pelosi's impeachment strategy \"ac...</td>\n",
       "      <td>Bannon, the former White House chief strategis...</td>\n",
       "      <td>https://assets.msn.com/labs/mind/BBWF67N.html</td>\n",
       "      <td>[{\"Label\": \"Steve Bannon\", \"Type\": \"P\", \"Wikid...</td>\n",
       "      <td>[{\"Label\": \"Steve Bannon\", \"Type\": \"P\", \"Wikid...</td>\n",
       "    </tr>\n",
       "  </tbody>\n",
       "</table>\n",
       "</div>"
      ],
      "text/plain": [
       "      news_id category  sub_category  \\\n",
       "45132  N26025     news  newspolitics   \n",
       "\n",
       "                                                   title  \\\n",
       "45132  Bannon calls Pelosi's impeachment strategy \"ac...   \n",
       "\n",
       "                                                abstract  \\\n",
       "45132  Bannon, the former White House chief strategis...   \n",
       "\n",
       "                                                 url  \\\n",
       "45132  https://assets.msn.com/labs/mind/BBWF67N.html   \n",
       "\n",
       "                                          title_entities  \\\n",
       "45132  [{\"Label\": \"Steve Bannon\", \"Type\": \"P\", \"Wikid...   \n",
       "\n",
       "                                      abstract_entitites  \n",
       "45132  [{\"Label\": \"Steve Bannon\", \"Type\": \"P\", \"Wikid...  "
      ]
     },
     "execution_count": 152,
     "metadata": {},
     "output_type": "execute_result"
    }
   ],
   "source": [
    "news_df[(news_df[\"news_id\"]==\"N26025\")]#[\"title\"].to_list()[0]#| (news_df[\"news_id\"]==\"N4107\")][\"title\"].to_list()[1]"
   ]
  },
  {
   "cell_type": "code",
   "execution_count": 149,
   "metadata": {},
   "outputs": [
    {
     "data": {
      "text/html": [
       "<div>\n",
       "<style scoped>\n",
       "    .dataframe tbody tr th:only-of-type {\n",
       "        vertical-align: middle;\n",
       "    }\n",
       "\n",
       "    .dataframe tbody tr th {\n",
       "        vertical-align: top;\n",
       "    }\n",
       "\n",
       "    .dataframe thead th {\n",
       "        text-align: right;\n",
       "    }\n",
       "</style>\n",
       "<table border=\"1\" class=\"dataframe\">\n",
       "  <thead>\n",
       "    <tr style=\"text-align: right;\">\n",
       "      <th></th>\n",
       "      <th>user_id</th>\n",
       "      <th>preds</th>\n",
       "      <th>pred_1</th>\n",
       "      <th>pred_2</th>\n",
       "      <th>pred_3</th>\n",
       "      <th>pred_4</th>\n",
       "      <th>pred_5</th>\n",
       "    </tr>\n",
       "  </thead>\n",
       "  <tbody>\n",
       "    <tr>\n",
       "      <th>20</th>\n",
       "      <td>U7166</td>\n",
       "      <td>['N39010', 'N51048', 'N287', 'N26025', 'N59673']</td>\n",
       "      <td>N39010</td>\n",
       "      <td>N51048</td>\n",
       "      <td>N287</td>\n",
       "      <td>N26025</td>\n",
       "      <td>N59673</td>\n",
       "    </tr>\n",
       "  </tbody>\n",
       "</table>\n",
       "</div>"
      ],
      "text/plain": [
       "   user_id                                             preds  pred_1  pred_2  \\\n",
       "20   U7166  ['N39010', 'N51048', 'N287', 'N26025', 'N59673']  N39010  N51048   \n",
       "\n",
       "   pred_3  pred_4  pred_5  \n",
       "20   N287  N26025  N59673  "
      ]
     },
     "execution_count": 149,
     "metadata": {},
     "output_type": "execute_result"
    }
   ],
   "source": [
    "nn_result_news[nn_result_news[\"user_id\"]==\"U7166\"]"
   ]
  },
  {
   "cell_type": "code",
   "execution_count": 150,
   "metadata": {},
   "outputs": [
    {
     "data": {
      "text/html": [
       "<div>\n",
       "<style scoped>\n",
       "    .dataframe tbody tr th:only-of-type {\n",
       "        vertical-align: middle;\n",
       "    }\n",
       "\n",
       "    .dataframe tbody tr th {\n",
       "        vertical-align: top;\n",
       "    }\n",
       "\n",
       "    .dataframe thead th {\n",
       "        text-align: right;\n",
       "    }\n",
       "</style>\n",
       "<table border=\"1\" class=\"dataframe\">\n",
       "  <thead>\n",
       "    <tr style=\"text-align: right;\">\n",
       "      <th></th>\n",
       "      <th>user_id</th>\n",
       "      <th>preds</th>\n",
       "      <th>pred_1</th>\n",
       "      <th>pred_2</th>\n",
       "      <th>pred_3</th>\n",
       "      <th>pred_4</th>\n",
       "      <th>pred_5</th>\n",
       "    </tr>\n",
       "  </thead>\n",
       "  <tbody>\n",
       "    <tr>\n",
       "      <th>25</th>\n",
       "      <td>U7166</td>\n",
       "      <td>['N39010', 'N287', 'N26025', 'N51048', 'N4642']</td>\n",
       "      <td>N39010</td>\n",
       "      <td>N287</td>\n",
       "      <td>N26025</td>\n",
       "      <td>N51048</td>\n",
       "      <td>N4642</td>\n",
       "    </tr>\n",
       "  </tbody>\n",
       "</table>\n",
       "</div>"
      ],
      "text/plain": [
       "   user_id                                            preds  pred_1 pred_2  \\\n",
       "25   U7166  ['N39010', 'N287', 'N26025', 'N51048', 'N4642']  N39010   N287   \n",
       "\n",
       "    pred_3  pred_4 pred_5  \n",
       "25  N26025  N51048  N4642  "
      ]
     },
     "execution_count": 150,
     "metadata": {},
     "output_type": "execute_result"
    }
   ],
   "source": [
    "sts_result_news[sts_result_news[\"user_id\"]==\"U7166\"]"
   ]
  },
  {
   "cell_type": "markdown",
   "metadata": {},
   "source": [
    "## Getting Good Users"
   ]
  },
  {
   "cell_type": "code",
   "execution_count": 32,
   "metadata": {},
   "outputs": [],
   "source": [
    "prev_nn = get_data(\"./results/cosine3_final.csv\")\n",
    "prev_nn.merge(nn_result,left_on =[\"user_id\"], right_on =[\"user_id\"]).head() # none\n",
    "exp_users =prev_nn[\"user_id\"].unique()\n",
    "user_file = './users.csv'\n",
    "users = pd.DataFrame(data={\"user_id\":exp_users[:1000]})\n",
    "users.to_csv(user_file, sep=',', index=False)"
   ]
  },
  {
   "cell_type": "markdown",
   "metadata": {},
   "source": [
    "## Break down the results"
   ]
  },
  {
   "cell_type": "markdown",
   "metadata": {},
   "source": [
    "## join the preds"
   ]
  },
  {
   "cell_type": "code",
   "execution_count": 13,
   "metadata": {},
   "outputs": [
    {
     "data": {
      "text/html": [
       "<div>\n",
       "<style scoped>\n",
       "    .dataframe tbody tr th:only-of-type {\n",
       "        vertical-align: middle;\n",
       "    }\n",
       "\n",
       "    .dataframe tbody tr th {\n",
       "        vertical-align: top;\n",
       "    }\n",
       "\n",
       "    .dataframe thead th {\n",
       "        text-align: right;\n",
       "    }\n",
       "</style>\n",
       "<table border=\"1\" class=\"dataframe\">\n",
       "  <thead>\n",
       "    <tr style=\"text-align: right;\">\n",
       "      <th></th>\n",
       "      <th>user_id</th>\n",
       "      <th>nn_pred</th>\n",
       "      <th>nli_pred</th>\n",
       "      <th>sts_pred</th>\n",
       "    </tr>\n",
       "  </thead>\n",
       "  <tbody>\n",
       "    <tr>\n",
       "      <th>0</th>\n",
       "      <td>U57255</td>\n",
       "      <td>N46917</td>\n",
       "      <td>N64037</td>\n",
       "      <td>N64037</td>\n",
       "    </tr>\n",
       "    <tr>\n",
       "      <th>1</th>\n",
       "      <td>U66830</td>\n",
       "      <td>N40109</td>\n",
       "      <td>N34185</td>\n",
       "      <td>N62318</td>\n",
       "    </tr>\n",
       "    <tr>\n",
       "      <th>2</th>\n",
       "      <td>U25497</td>\n",
       "      <td>N56211</td>\n",
       "      <td>N41934</td>\n",
       "      <td>N41934</td>\n",
       "    </tr>\n",
       "    <tr>\n",
       "      <th>3</th>\n",
       "      <td>U89637</td>\n",
       "      <td>N23446</td>\n",
       "      <td>N23446</td>\n",
       "      <td>N23446</td>\n",
       "    </tr>\n",
       "    <tr>\n",
       "      <th>4</th>\n",
       "      <td>U9318</td>\n",
       "      <td>N23877</td>\n",
       "      <td>N36226</td>\n",
       "      <td>N40109</td>\n",
       "    </tr>\n",
       "  </tbody>\n",
       "</table>\n",
       "</div>"
      ],
      "text/plain": [
       "  user_id nn_pred nli_pred sts_pred\n",
       "0  U57255  N46917   N64037   N64037\n",
       "1  U66830  N40109   N34185   N62318\n",
       "2  U25497  N56211   N41934   N41934\n",
       "3  U89637  N23446   N23446   N23446\n",
       "4   U9318  N23877   N36226   N40109"
      ]
     },
     "execution_count": 13,
     "metadata": {},
     "output_type": "execute_result"
    }
   ],
   "source": [
    "all_results = pd.merge(pd.merge(nn_result,nli_result,on='user_id'),sts_result,on='user_id')\n",
    "all_results.head()"
   ]
  },
  {
   "cell_type": "code",
   "execution_count": 14,
   "metadata": {},
   "outputs": [
    {
     "data": {
      "text/plain": [
       "(538, 4)"
      ]
     },
     "execution_count": 14,
     "metadata": {},
     "output_type": "execute_result"
    }
   ],
   "source": [
    "all_results.shape"
   ]
  },
  {
   "cell_type": "code",
   "execution_count": 15,
   "metadata": {},
   "outputs": [
    {
     "data": {
      "text/plain": [
       "0         2019-11-11\n",
       "1         2019-11-12\n",
       "2         2019-11-14\n",
       "3         2019-11-11\n",
       "4         2019-11-12\n",
       "             ...    \n",
       "156960    2019-11-14\n",
       "156961    2019-11-13\n",
       "156962    2019-11-14\n",
       "156963    2019-11-13\n",
       "156964    2019-11-14\n",
       "Name: date, Length: 156965, dtype: object"
      ]
     },
     "execution_count": 15,
     "metadata": {},
     "output_type": "execute_result"
    }
   ],
   "source": [
    "# make date field\n",
    "b_df[\"date\"] = pd.to_datetime(b_df[\"time\"]).dt.date\n",
    "b_df[\"date\"]"
   ]
  },
  {
   "cell_type": "code",
   "execution_count": null,
   "metadata": {},
   "outputs": [],
   "source": [
    "# reduce date to only the last date\n",
    "#b_df = b_df.loc[b_df[\"date\"].astype(str) == \"2019-11-14\"]"
   ]
  },
  {
   "cell_type": "code",
   "execution_count": null,
   "metadata": {},
   "outputs": [],
   "source": [
    "# History Will be the users historical articles combined with news relating info\n",
    "history_df_cols = [ \"user_id\",\"date\",\"history\"]\n",
    "candidate_df_cols = [ \"user_id\",\"date\",\"impressions\"]\n",
    "\n",
    "history_df = b_df[history_df_cols].copy(deep=True)\n",
    "candidate_df = b_df[candidate_df_cols].copy(deep=True)"
   ]
  },
  {
   "cell_type": "code",
   "execution_count": null,
   "metadata": {},
   "outputs": [],
   "source": [
    "def create_rows(df, col):\n",
    "    '''\n",
    "    '''\n",
    "    # first convert string into a list/array\n",
    "    df[col] = df[col].str.split()\n",
    "\n",
    "    # explored into multiple rows\n",
    "    new_df = df.explode(col)\n",
    "    return new_df\n",
    "candidate_df = create_rows(candidate_df, \"impressions\")\n",
    "history_df = create_rows(history_df, \"history\")\n",
    "history_df = history_df.rename(columns={\"history\":\"news_id\"}) # rename history column for joining to news df"
   ]
  }
 ],
 "metadata": {
  "kernelspec": {
   "display_name": "research",
   "language": "python",
   "name": "python3"
  },
  "language_info": {
   "codemirror_mode": {
    "name": "ipython",
    "version": 3
   },
   "file_extension": ".py",
   "mimetype": "text/x-python",
   "name": "python",
   "nbconvert_exporter": "python",
   "pygments_lexer": "ipython3",
   "version": "3.10.5"
  },
  "orig_nbformat": 4
 },
 "nbformat": 4,
 "nbformat_minor": 2
}
