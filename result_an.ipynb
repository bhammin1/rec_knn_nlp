{
 "cells": [
  {
   "cell_type": "code",
   "execution_count": 1,
   "metadata": {},
   "outputs": [
    {
     "name": "stderr",
     "output_type": "stream",
     "text": [
      "c:\\Users\\12693\\Documents\\JHU\\AI-Enabling Systems\\research\\lib\\site-packages\\tqdm\\auto.py:21: TqdmWarning: IProgress not found. Please update jupyter and ipywidgets. See https://ipywidgets.readthedocs.io/en/stable/user_install.html\n",
      "  from .autonotebook import tqdm as notebook_tqdm\n"
     ]
    }
   ],
   "source": [
    "import pandas as pd\n",
    "import numpy as np\n",
    "\n",
    "import csv\n",
    "import news_rec as nr"
   ]
  },
  {
   "cell_type": "code",
   "execution_count": 2,
   "metadata": {},
   "outputs": [],
   "source": [
    "def load_tsv(file, cols):\n",
    "    '''\n",
    "    Given a path and list of columns,\n",
    "    loads a tsv file into a pandas data frame\n",
    "    '''\n",
    "    df = pd.read_table(file,sep=\"\\t\", header=None, names=cols)\n",
    "\n",
    "    return df"
   ]
  },
  {
   "cell_type": "code",
   "execution_count": 3,
   "metadata": {},
   "outputs": [],
   "source": [
    "def get_data(file):\n",
    "    df = pd.read_csv(file)\n",
    "    \n",
    "    return df"
   ]
  },
  {
   "cell_type": "code",
   "execution_count": 4,
   "metadata": {},
   "outputs": [],
   "source": [
    "behav_cols = [\"impression_id\", \"user_id\",\"time\",\"history\",\"impressions\"]\n",
    "news_cols = [\"news_id\",\"category\",\"sub_category\",\"title\",\"abstract\",\"url\",\"title_entities\",\"abstract_entitites\"]\n",
    "news_df = load_tsv(\"./data/news.tsv\", news_cols)\n",
    "b_df = load_tsv(\"./data/behaviors.tsv\", behav_cols)"
   ]
  },
  {
   "cell_type": "code",
   "execution_count": 8,
   "metadata": {},
   "outputs": [
    {
     "name": "stdout",
     "output_type": "stream",
     "text": [
      "(509586, 6) (827783, 7)\n"
     ]
    }
   ],
   "source": [
    "hist, can = nr.all_preprocessing()"
   ]
  },
  {
   "cell_type": "code",
   "execution_count": 9,
   "metadata": {},
   "outputs": [
    {
     "data": {
      "text/html": [
       "<div>\n",
       "<style scoped>\n",
       "    .dataframe tbody tr th:only-of-type {\n",
       "        vertical-align: middle;\n",
       "    }\n",
       "\n",
       "    .dataframe tbody tr th {\n",
       "        vertical-align: top;\n",
       "    }\n",
       "\n",
       "    .dataframe thead th {\n",
       "        text-align: right;\n",
       "    }\n",
       "</style>\n",
       "<table border=\"1\" class=\"dataframe\">\n",
       "  <thead>\n",
       "    <tr style=\"text-align: right;\">\n",
       "      <th></th>\n",
       "      <th>user_id</th>\n",
       "      <th>preds</th>\n",
       "      <th>pred_1</th>\n",
       "      <th>pred_2</th>\n",
       "      <th>pred_3</th>\n",
       "      <th>pred_4</th>\n",
       "      <th>pred_5</th>\n",
       "    </tr>\n",
       "  </thead>\n",
       "  <tbody>\n",
       "    <tr>\n",
       "      <th>0</th>\n",
       "      <td>U27158</td>\n",
       "      <td>['N64174', 'N23877', 'N48017', 'N9623', 'N50872']</td>\n",
       "      <td>N64174</td>\n",
       "      <td>N23877</td>\n",
       "      <td>N48017</td>\n",
       "      <td>N9623</td>\n",
       "      <td>N50872</td>\n",
       "    </tr>\n",
       "    <tr>\n",
       "      <th>1</th>\n",
       "      <td>U60170</td>\n",
       "      <td>['N38779', 'N23446', 'N45523', 'N25165', 'N457...</td>\n",
       "      <td>N38779</td>\n",
       "      <td>N23446</td>\n",
       "      <td>N45523</td>\n",
       "      <td>N25165</td>\n",
       "      <td>N45734</td>\n",
       "    </tr>\n",
       "    <tr>\n",
       "      <th>2</th>\n",
       "      <td>U40758</td>\n",
       "      <td>['N23446', 'N40109', 'N38779', 'N62318', 'N341...</td>\n",
       "      <td>N23446</td>\n",
       "      <td>N40109</td>\n",
       "      <td>N38779</td>\n",
       "      <td>N62318</td>\n",
       "      <td>N34185</td>\n",
       "    </tr>\n",
       "    <tr>\n",
       "      <th>3</th>\n",
       "      <td>U60555</td>\n",
       "      <td>['N23446', 'N23877', 'N38779', 'N6477', 'N45523']</td>\n",
       "      <td>N23446</td>\n",
       "      <td>N23877</td>\n",
       "      <td>N38779</td>\n",
       "      <td>N6477</td>\n",
       "      <td>N45523</td>\n",
       "    </tr>\n",
       "    <tr>\n",
       "      <th>4</th>\n",
       "      <td>U57993</td>\n",
       "      <td>['N23446', 'N57733', 'N47652', 'N38779', 'N455...</td>\n",
       "      <td>N23446</td>\n",
       "      <td>N57733</td>\n",
       "      <td>N47652</td>\n",
       "      <td>N38779</td>\n",
       "      <td>N45523</td>\n",
       "    </tr>\n",
       "  </tbody>\n",
       "</table>\n",
       "</div>"
      ],
      "text/plain": [
       "  user_id                                              preds  pred_1  pred_2  \\\n",
       "0  U27158  ['N64174', 'N23877', 'N48017', 'N9623', 'N50872']  N64174  N23877   \n",
       "1  U60170  ['N38779', 'N23446', 'N45523', 'N25165', 'N457...  N38779  N23446   \n",
       "2  U40758  ['N23446', 'N40109', 'N38779', 'N62318', 'N341...  N23446  N40109   \n",
       "3  U60555  ['N23446', 'N23877', 'N38779', 'N6477', 'N45523']  N23446  N23877   \n",
       "4  U57993  ['N23446', 'N57733', 'N47652', 'N38779', 'N455...  N23446  N57733   \n",
       "\n",
       "   pred_3  pred_4  pred_5  \n",
       "0  N48017   N9623  N50872  \n",
       "1  N45523  N25165  N45734  \n",
       "2  N38779  N62318  N34185  \n",
       "3  N38779   N6477  N45523  \n",
       "4  N47652  N38779  N45523  "
      ]
     },
     "execution_count": 9,
     "metadata": {},
     "output_type": "execute_result"
    }
   ],
   "source": [
    "nn_result = get_data(\"./results/final/nn_cosine3_final.csv\")\n",
    "#nn_result = nn_result.rename(columns={\"prediction\":\"nn_pred\"}) \n",
    "nn_result.head(5)"
   ]
  },
  {
   "cell_type": "code",
   "execution_count": 10,
   "metadata": {},
   "outputs": [
    {
     "data": {
      "text/html": [
       "<div>\n",
       "<style scoped>\n",
       "    .dataframe tbody tr th:only-of-type {\n",
       "        vertical-align: middle;\n",
       "    }\n",
       "\n",
       "    .dataframe tbody tr th {\n",
       "        vertical-align: top;\n",
       "    }\n",
       "\n",
       "    .dataframe thead th {\n",
       "        text-align: right;\n",
       "    }\n",
       "</style>\n",
       "<table border=\"1\" class=\"dataframe\">\n",
       "  <thead>\n",
       "    <tr style=\"text-align: right;\">\n",
       "      <th></th>\n",
       "      <th>user_id</th>\n",
       "      <th>preds</th>\n",
       "      <th>pred_1</th>\n",
       "      <th>pred_2</th>\n",
       "      <th>pred_3</th>\n",
       "      <th>pred_4</th>\n",
       "      <th>pred_5</th>\n",
       "    </tr>\n",
       "  </thead>\n",
       "  <tbody>\n",
       "    <tr>\n",
       "      <th>0</th>\n",
       "      <td>U57255</td>\n",
       "      <td>['N64037', 'N46917', 'N60750', 'N22975', 'N500...</td>\n",
       "      <td>N64037</td>\n",
       "      <td>N46917</td>\n",
       "      <td>N60750</td>\n",
       "      <td>N22975</td>\n",
       "      <td>N50055</td>\n",
       "    </tr>\n",
       "    <tr>\n",
       "      <th>1</th>\n",
       "      <td>U66830</td>\n",
       "      <td>['N62318', 'N19661', 'N40109', 'N50872', 'N341...</td>\n",
       "      <td>N62318</td>\n",
       "      <td>N19661</td>\n",
       "      <td>N40109</td>\n",
       "      <td>N50872</td>\n",
       "      <td>N34185</td>\n",
       "    </tr>\n",
       "    <tr>\n",
       "      <th>2</th>\n",
       "      <td>U25497</td>\n",
       "      <td>['N41934', 'N61233', 'N56211', 'N14478', 'N277...</td>\n",
       "      <td>N41934</td>\n",
       "      <td>N61233</td>\n",
       "      <td>N56211</td>\n",
       "      <td>N14478</td>\n",
       "      <td>N27737</td>\n",
       "    </tr>\n",
       "    <tr>\n",
       "      <th>3</th>\n",
       "      <td>U27158</td>\n",
       "      <td>['N50872', 'N9623', 'N48017', 'N8015', 'N64174']</td>\n",
       "      <td>N50872</td>\n",
       "      <td>N9623</td>\n",
       "      <td>N48017</td>\n",
       "      <td>N8015</td>\n",
       "      <td>N64174</td>\n",
       "    </tr>\n",
       "    <tr>\n",
       "      <th>4</th>\n",
       "      <td>U89637</td>\n",
       "      <td>['N23446', 'N50872', 'N6477', 'N29212', 'N38779']</td>\n",
       "      <td>N23446</td>\n",
       "      <td>N50872</td>\n",
       "      <td>N6477</td>\n",
       "      <td>N29212</td>\n",
       "      <td>N38779</td>\n",
       "    </tr>\n",
       "  </tbody>\n",
       "</table>\n",
       "</div>"
      ],
      "text/plain": [
       "  user_id                                              preds  pred_1  pred_2  \\\n",
       "0  U57255  ['N64037', 'N46917', 'N60750', 'N22975', 'N500...  N64037  N46917   \n",
       "1  U66830  ['N62318', 'N19661', 'N40109', 'N50872', 'N341...  N62318  N19661   \n",
       "2  U25497  ['N41934', 'N61233', 'N56211', 'N14478', 'N277...  N41934  N61233   \n",
       "3  U27158   ['N50872', 'N9623', 'N48017', 'N8015', 'N64174']  N50872   N9623   \n",
       "4  U89637  ['N23446', 'N50872', 'N6477', 'N29212', 'N38779']  N23446  N50872   \n",
       "\n",
       "   pred_3  pred_4  pred_5  \n",
       "0  N60750  N22975  N50055  \n",
       "1  N40109  N50872  N34185  \n",
       "2  N56211  N14478  N27737  \n",
       "3  N48017   N8015  N64174  \n",
       "4   N6477  N29212  N38779  "
      ]
     },
     "execution_count": 10,
     "metadata": {},
     "output_type": "execute_result"
    }
   ],
   "source": [
    "sts_result = get_data(\"./results/final/sts_cosine3_final.csv\")\n",
    "#nn_result = nn_result.rename(columns={\"prediction\":\"nn_pred\"}) \n",
    "sts_result.head(5)"
   ]
  },
  {
   "cell_type": "code",
   "execution_count": 11,
   "metadata": {},
   "outputs": [
    {
     "data": {
      "text/html": [
       "<div>\n",
       "<style scoped>\n",
       "    .dataframe tbody tr th:only-of-type {\n",
       "        vertical-align: middle;\n",
       "    }\n",
       "\n",
       "    .dataframe tbody tr th {\n",
       "        vertical-align: top;\n",
       "    }\n",
       "\n",
       "    .dataframe thead th {\n",
       "        text-align: right;\n",
       "    }\n",
       "</style>\n",
       "<table border=\"1\" class=\"dataframe\">\n",
       "  <thead>\n",
       "    <tr style=\"text-align: right;\">\n",
       "      <th></th>\n",
       "      <th>user_id</th>\n",
       "      <th>preds</th>\n",
       "      <th>pred_1</th>\n",
       "      <th>pred_2</th>\n",
       "      <th>pred_3</th>\n",
       "      <th>pred_4</th>\n",
       "      <th>pred_5</th>\n",
       "    </tr>\n",
       "  </thead>\n",
       "  <tbody>\n",
       "    <tr>\n",
       "      <th>0</th>\n",
       "      <td>U57255</td>\n",
       "      <td>['N46917', 'N64037', 'N60750', 'N50055', 'N229...</td>\n",
       "      <td>N46917</td>\n",
       "      <td>N64037</td>\n",
       "      <td>N60750</td>\n",
       "      <td>N50055</td>\n",
       "      <td>N22975</td>\n",
       "    </tr>\n",
       "    <tr>\n",
       "      <th>1</th>\n",
       "      <td>U66830</td>\n",
       "      <td>['N62318', 'N1539', 'N40109', 'N50872', 'N38779']</td>\n",
       "      <td>N62318</td>\n",
       "      <td>N1539</td>\n",
       "      <td>N40109</td>\n",
       "      <td>N50872</td>\n",
       "      <td>N38779</td>\n",
       "    </tr>\n",
       "    <tr>\n",
       "      <th>2</th>\n",
       "      <td>U25497</td>\n",
       "      <td>['N56211', 'N14478', 'N41934', 'N61233', 'N528...</td>\n",
       "      <td>N56211</td>\n",
       "      <td>N14478</td>\n",
       "      <td>N41934</td>\n",
       "      <td>N61233</td>\n",
       "      <td>N52867</td>\n",
       "    </tr>\n",
       "    <tr>\n",
       "      <th>3</th>\n",
       "      <td>U27158</td>\n",
       "      <td>['N64174', 'N8015', 'N9623', 'N23877', 'N48017']</td>\n",
       "      <td>N64174</td>\n",
       "      <td>N8015</td>\n",
       "      <td>N9623</td>\n",
       "      <td>N23877</td>\n",
       "      <td>N48017</td>\n",
       "    </tr>\n",
       "    <tr>\n",
       "      <th>4</th>\n",
       "      <td>U89637</td>\n",
       "      <td>['N23446', 'N50872', 'N23877', 'N6477', 'N38779']</td>\n",
       "      <td>N23446</td>\n",
       "      <td>N50872</td>\n",
       "      <td>N23877</td>\n",
       "      <td>N6477</td>\n",
       "      <td>N38779</td>\n",
       "    </tr>\n",
       "  </tbody>\n",
       "</table>\n",
       "</div>"
      ],
      "text/plain": [
       "  user_id                                              preds  pred_1  pred_2  \\\n",
       "0  U57255  ['N46917', 'N64037', 'N60750', 'N50055', 'N229...  N46917  N64037   \n",
       "1  U66830  ['N62318', 'N1539', 'N40109', 'N50872', 'N38779']  N62318   N1539   \n",
       "2  U25497  ['N56211', 'N14478', 'N41934', 'N61233', 'N528...  N56211  N14478   \n",
       "3  U27158   ['N64174', 'N8015', 'N9623', 'N23877', 'N48017']  N64174   N8015   \n",
       "4  U89637  ['N23446', 'N50872', 'N23877', 'N6477', 'N38779']  N23446  N50872   \n",
       "\n",
       "   pred_3  pred_4  pred_5  \n",
       "0  N60750  N50055  N22975  \n",
       "1  N40109  N50872  N38779  \n",
       "2  N41934  N61233  N52867  \n",
       "3   N9623  N23877  N48017  \n",
       "4  N23877   N6477  N38779  "
      ]
     },
     "execution_count": 11,
     "metadata": {},
     "output_type": "execute_result"
    }
   ],
   "source": [
    "nli_result = get_data(\"./results/final/nli_cosine3_final.csv\")\n",
    "#nn_result = nn_result.rename(columns={\"prediction\":\"nn_pred\"}) \n",
    "nli_result.head(5)"
   ]
  },
  {
   "cell_type": "code",
   "execution_count": 12,
   "metadata": {},
   "outputs": [
    {
     "data": {
      "text/html": [
       "<div>\n",
       "<style scoped>\n",
       "    .dataframe tbody tr th:only-of-type {\n",
       "        vertical-align: middle;\n",
       "    }\n",
       "\n",
       "    .dataframe tbody tr th {\n",
       "        vertical-align: top;\n",
       "    }\n",
       "\n",
       "    .dataframe thead th {\n",
       "        text-align: right;\n",
       "    }\n",
       "</style>\n",
       "<table border=\"1\" class=\"dataframe\">\n",
       "  <thead>\n",
       "    <tr style=\"text-align: right;\">\n",
       "      <th></th>\n",
       "      <th>user_id</th>\n",
       "      <th>preds</th>\n",
       "      <th>pred_1</th>\n",
       "      <th>pred_2</th>\n",
       "      <th>pred_3</th>\n",
       "      <th>pred_4</th>\n",
       "      <th>pred_5</th>\n",
       "    </tr>\n",
       "  </thead>\n",
       "  <tbody>\n",
       "    <tr>\n",
       "      <th>0</th>\n",
       "      <td>U27158</td>\n",
       "      <td>['N64174', 'N23877', 'N48017', 'N9623', 'N50872']</td>\n",
       "      <td>N64174</td>\n",
       "      <td>N23877</td>\n",
       "      <td>N48017</td>\n",
       "      <td>N9623</td>\n",
       "      <td>N50872</td>\n",
       "    </tr>\n",
       "    <tr>\n",
       "      <th>1</th>\n",
       "      <td>U60170</td>\n",
       "      <td>['N38779', 'N23446', 'N45523', 'N25165', 'N457...</td>\n",
       "      <td>N38779</td>\n",
       "      <td>N23446</td>\n",
       "      <td>N45523</td>\n",
       "      <td>N25165</td>\n",
       "      <td>N45734</td>\n",
       "    </tr>\n",
       "    <tr>\n",
       "      <th>2</th>\n",
       "      <td>U40758</td>\n",
       "      <td>['N23446', 'N40109', 'N38779', 'N62318', 'N341...</td>\n",
       "      <td>N23446</td>\n",
       "      <td>N40109</td>\n",
       "      <td>N38779</td>\n",
       "      <td>N62318</td>\n",
       "      <td>N34185</td>\n",
       "    </tr>\n",
       "    <tr>\n",
       "      <th>3</th>\n",
       "      <td>U60555</td>\n",
       "      <td>['N23446', 'N23877', 'N38779', 'N6477', 'N45523']</td>\n",
       "      <td>N23446</td>\n",
       "      <td>N23877</td>\n",
       "      <td>N38779</td>\n",
       "      <td>N6477</td>\n",
       "      <td>N45523</td>\n",
       "    </tr>\n",
       "    <tr>\n",
       "      <th>4</th>\n",
       "      <td>U57993</td>\n",
       "      <td>['N23446', 'N57733', 'N47652', 'N38779', 'N455...</td>\n",
       "      <td>N23446</td>\n",
       "      <td>N57733</td>\n",
       "      <td>N47652</td>\n",
       "      <td>N38779</td>\n",
       "      <td>N45523</td>\n",
       "    </tr>\n",
       "  </tbody>\n",
       "</table>\n",
       "</div>"
      ],
      "text/plain": [
       "  user_id                                              preds  pred_1  pred_2  \\\n",
       "0  U27158  ['N64174', 'N23877', 'N48017', 'N9623', 'N50872']  N64174  N23877   \n",
       "1  U60170  ['N38779', 'N23446', 'N45523', 'N25165', 'N457...  N38779  N23446   \n",
       "2  U40758  ['N23446', 'N40109', 'N38779', 'N62318', 'N341...  N23446  N40109   \n",
       "3  U60555  ['N23446', 'N23877', 'N38779', 'N6477', 'N45523']  N23446  N23877   \n",
       "4  U57993  ['N23446', 'N57733', 'N47652', 'N38779', 'N455...  N23446  N57733   \n",
       "\n",
       "   pred_3  pred_4  pred_5  \n",
       "0  N48017   N9623  N50872  \n",
       "1  N45523  N25165  N45734  \n",
       "2  N38779  N62318  N34185  \n",
       "3  N38779   N6477  N45523  \n",
       "4  N47652  N38779  N45523  "
      ]
     },
     "execution_count": 12,
     "metadata": {},
     "output_type": "execute_result"
    }
   ],
   "source": [
    "nn_result_news = get_data(\"./results/final/nn_cosine3_final_news.csv\")\n",
    "#nn_result = nn_result.rename(columns={\"prediction\":\"nn_pred\"}) \n",
    "nn_result.head(5)"
   ]
  },
  {
   "cell_type": "code",
   "execution_count": 13,
   "metadata": {},
   "outputs": [
    {
     "data": {
      "text/html": [
       "<div>\n",
       "<style scoped>\n",
       "    .dataframe tbody tr th:only-of-type {\n",
       "        vertical-align: middle;\n",
       "    }\n",
       "\n",
       "    .dataframe tbody tr th {\n",
       "        vertical-align: top;\n",
       "    }\n",
       "\n",
       "    .dataframe thead th {\n",
       "        text-align: right;\n",
       "    }\n",
       "</style>\n",
       "<table border=\"1\" class=\"dataframe\">\n",
       "  <thead>\n",
       "    <tr style=\"text-align: right;\">\n",
       "      <th></th>\n",
       "      <th>user_id</th>\n",
       "      <th>preds</th>\n",
       "      <th>pred_1</th>\n",
       "      <th>pred_2</th>\n",
       "      <th>pred_3</th>\n",
       "      <th>pred_4</th>\n",
       "      <th>pred_5</th>\n",
       "    </tr>\n",
       "  </thead>\n",
       "  <tbody>\n",
       "    <tr>\n",
       "      <th>0</th>\n",
       "      <td>U57255</td>\n",
       "      <td>['N64037', 'N46917', 'N60750', 'N22975', 'N500...</td>\n",
       "      <td>N64037</td>\n",
       "      <td>N46917</td>\n",
       "      <td>N60750</td>\n",
       "      <td>N22975</td>\n",
       "      <td>N50055</td>\n",
       "    </tr>\n",
       "    <tr>\n",
       "      <th>1</th>\n",
       "      <td>U66830</td>\n",
       "      <td>['N62318', 'N19661', 'N40109', 'N50872', 'N341...</td>\n",
       "      <td>N62318</td>\n",
       "      <td>N19661</td>\n",
       "      <td>N40109</td>\n",
       "      <td>N50872</td>\n",
       "      <td>N34185</td>\n",
       "    </tr>\n",
       "    <tr>\n",
       "      <th>2</th>\n",
       "      <td>U25497</td>\n",
       "      <td>['N41934', 'N61233', 'N56211', 'N14478', 'N277...</td>\n",
       "      <td>N41934</td>\n",
       "      <td>N61233</td>\n",
       "      <td>N56211</td>\n",
       "      <td>N14478</td>\n",
       "      <td>N27737</td>\n",
       "    </tr>\n",
       "    <tr>\n",
       "      <th>3</th>\n",
       "      <td>U27158</td>\n",
       "      <td>['N50872', 'N9623', 'N48017', 'N8015', 'N64174']</td>\n",
       "      <td>N50872</td>\n",
       "      <td>N9623</td>\n",
       "      <td>N48017</td>\n",
       "      <td>N8015</td>\n",
       "      <td>N64174</td>\n",
       "    </tr>\n",
       "    <tr>\n",
       "      <th>4</th>\n",
       "      <td>U89637</td>\n",
       "      <td>['N23446', 'N50872', 'N6477', 'N29212', 'N38779']</td>\n",
       "      <td>N23446</td>\n",
       "      <td>N50872</td>\n",
       "      <td>N6477</td>\n",
       "      <td>N29212</td>\n",
       "      <td>N38779</td>\n",
       "    </tr>\n",
       "  </tbody>\n",
       "</table>\n",
       "</div>"
      ],
      "text/plain": [
       "  user_id                                              preds  pred_1  pred_2  \\\n",
       "0  U57255  ['N64037', 'N46917', 'N60750', 'N22975', 'N500...  N64037  N46917   \n",
       "1  U66830  ['N62318', 'N19661', 'N40109', 'N50872', 'N341...  N62318  N19661   \n",
       "2  U25497  ['N41934', 'N61233', 'N56211', 'N14478', 'N277...  N41934  N61233   \n",
       "3  U27158   ['N50872', 'N9623', 'N48017', 'N8015', 'N64174']  N50872   N9623   \n",
       "4  U89637  ['N23446', 'N50872', 'N6477', 'N29212', 'N38779']  N23446  N50872   \n",
       "\n",
       "   pred_3  pred_4  pred_5  \n",
       "0  N60750  N22975  N50055  \n",
       "1  N40109  N50872  N34185  \n",
       "2  N56211  N14478  N27737  \n",
       "3  N48017   N8015  N64174  \n",
       "4   N6477  N29212  N38779  "
      ]
     },
     "execution_count": 13,
     "metadata": {},
     "output_type": "execute_result"
    }
   ],
   "source": [
    "sts_result_news = get_data(\"./results/final/sts_cosine3_final_news.csv\")\n",
    "#nn_result = nn_result.rename(columns={\"prediction\":\"nn_pred\"}) \n",
    "sts_result.head(5)"
   ]
  },
  {
   "cell_type": "markdown",
   "metadata": {},
   "source": [
    "## Metric Meausures"
   ]
  },
  {
   "cell_type": "code",
   "execution_count": 14,
   "metadata": {},
   "outputs": [],
   "source": [
    "def get_acc(candidate, preds):\n",
    "    '''\n",
    "    Returns the accuracy using the top recommendation per user \n",
    "    '''\n",
    "    \n",
    "\n",
    "    results_df = candidate.merge(preds, left_on =[\"user_id\",\"news_id\"], right_on =[\"user_id\",\"pred_1\"] )\n",
    "\n",
    "    correct_preds = results_df.loc[results_df[\"label\"]=='1'].shape[0]\n",
    "    accuracy = correct_preds/results_df.shape[0]\n",
    "\n",
    "    return accuracy"
   ]
  },
  {
   "cell_type": "code",
   "execution_count": 15,
   "metadata": {},
   "outputs": [
    {
     "data": {
      "text/plain": [
       "0.25"
      ]
     },
     "execution_count": 15,
     "metadata": {},
     "output_type": "execute_result"
    }
   ],
   "source": [
    "nn_acc = get_acc(can, nn_result)\n",
    "nn_acc # previously was .059"
   ]
  },
  {
   "cell_type": "code",
   "execution_count": 16,
   "metadata": {},
   "outputs": [
    {
     "data": {
      "text/plain": [
       "0.23725834797891038"
      ]
     },
     "execution_count": 16,
     "metadata": {},
     "output_type": "execute_result"
    }
   ],
   "source": [
    "sts_acc = get_acc(can, sts_result)\n",
    "sts_acc # previously was .059"
   ]
  },
  {
   "cell_type": "code",
   "execution_count": 17,
   "metadata": {},
   "outputs": [
    {
     "data": {
      "text/plain": [
       "0.22300884955752212"
      ]
     },
     "execution_count": 17,
     "metadata": {},
     "output_type": "execute_result"
    }
   ],
   "source": [
    "nli_acc = get_acc(can, nli_result)\n",
    "nli_acc # previously was .059"
   ]
  },
  {
   "cell_type": "code",
   "execution_count": 18,
   "metadata": {},
   "outputs": [
    {
     "data": {
      "text/plain": [
       "0.14"
      ]
     },
     "execution_count": 18,
     "metadata": {},
     "output_type": "execute_result"
    }
   ],
   "source": [
    "nn_acc_news = get_acc(can, nn_result_news)\n",
    "nn_acc_news"
   ]
  },
  {
   "cell_type": "code",
   "execution_count": 19,
   "metadata": {},
   "outputs": [
    {
     "data": {
      "text/plain": [
       "0.1875"
      ]
     },
     "execution_count": 19,
     "metadata": {},
     "output_type": "execute_result"
    }
   ],
   "source": [
    "sts_acc_news = get_acc(can, sts_result_news)\n",
    "sts_acc_news # previously was .059"
   ]
  },
  {
   "cell_type": "code",
   "execution_count": 20,
   "metadata": {},
   "outputs": [],
   "source": [
    "def convert_recs_to_list(preds, candidate, cols):\n",
    "    '''\n",
    "    Convers the result dictionary into a list \n",
    "    '''\n",
    "    new_col_names = []\n",
    "    all_df = []\n",
    "    for c in cols:\n",
    "        new_col = c + \"_relevant_ind\"\n",
    "        new_col_names.append(new_col)\n",
    "        results_df = candidate.merge(preds, left_on =[\"user_id\",\"news_id\"], right_on =[\"user_id\",c] )\n",
    "\n",
    "        results_df = results_df.rename(columns={\"label\":new_col})\n",
    "        results_df[new_col] = results_df[new_col].astype('int64')\n",
    "        results_df = results_df[['user_id',new_col]]\n",
    "        #print(results_df.head())\n",
    "        all_df.append(results_df)\n",
    "    # combine all dfs into one large df\n",
    "    df = all_df[0]\n",
    "    for d in all_df[1:]:\n",
    "        df = df.merge(d, on='user_id')\n",
    "\n",
    "    df[\"combined\"] = df[new_col_names].values.tolist()\n",
    "    return df\n"
   ]
  },
  {
   "cell_type": "code",
   "execution_count": 21,
   "metadata": {},
   "outputs": [],
   "source": [
    "def precision_at_k(df, k):\n",
    "    '''\n",
    "    Get the precision at K\n",
    "    '''\n",
    "    col = \"P@\"+str(k)\n",
    "\n",
    "    df[col] = df[\"combined\"].str[:k].map(sum)\n",
    "    df[col] = df[col]/k\n",
    "    return df,col"
   ]
  },
  {
   "cell_type": "code",
   "execution_count": 34,
   "metadata": {},
   "outputs": [],
   "source": [
    "def apk(df, k):\n",
    "    # returns AP@K\n",
    "    cols = []\n",
    "    for i in range(1, k+1):\n",
    "        df,col = precision_at_k(df, i)\n",
    "        cols.append(col)\n",
    "    \n",
    "    df[\"ap\"] = df[cols].sum(axis=1)\n",
    "    df[\"ap\"] = df[\"ap\"] /k\n",
    "    return df\n",
    "        "
   ]
  },
  {
   "cell_type": "code",
   "execution_count": 33,
   "metadata": {},
   "outputs": [],
   "source": [
    "def mapK(preds,candidate, cols,k):\n",
    "    # Returns MAP @ K score\n",
    "    df = convert_recs_to_list(preds, candidate, cols)\n",
    "    df = apk(df, k)\n",
    "    total = df[\"ap\"].sum()\n",
    "    return total/df.shape[0], df"
   ]
  },
  {
   "cell_type": "code",
   "execution_count": 35,
   "metadata": {},
   "outputs": [
    {
     "data": {
      "text/plain": [
       "0.20235042735042735"
      ]
     },
     "execution_count": 35,
     "metadata": {},
     "output_type": "execute_result"
    }
   ],
   "source": [
    "mapk3, df = mapK(nn_result, can, [\"pred_1\", \"pred_2\",\"pred_3\",\"pred_4\",\"pred_5\"],3)\n",
    "mapk3"
   ]
  },
  {
   "cell_type": "code",
   "execution_count": 25,
   "metadata": {},
   "outputs": [
    {
     "data": {
      "text/plain": [
       "0.18325641025641023"
      ]
     },
     "execution_count": 25,
     "metadata": {},
     "output_type": "execute_result"
    }
   ],
   "source": [
    "mapk5, df5 =mapK(nn_result, can, [\"pred_1\", \"pred_2\",\"pred_3\",\"pred_4\",\"pred_5\"],5)\n",
    "mapk5"
   ]
  },
  {
   "cell_type": "code",
   "execution_count": 26,
   "metadata": {},
   "outputs": [
    {
     "data": {
      "text/plain": [
       "0.25"
      ]
     },
     "execution_count": 26,
     "metadata": {},
     "output_type": "execute_result"
    }
   ],
   "source": [
    "mapk1, df1 = mapK(nn_result, can, [\"pred_1\", \"pred_2\",\"pred_3\",\"pred_4\",\"pred_5\"],1)\n",
    "mapk1"
   ]
  },
  {
   "cell_type": "code",
   "execution_count": 27,
   "metadata": {},
   "outputs": [
    {
     "name": "stdout",
     "output_type": "stream",
     "text": [
      "NN 1 0.25\n",
      "NN 3 0.20235042735042735\n",
      "NN 5 0.18325641025641023\n"
     ]
    }
   ],
   "source": [
    "print(\"NN 1\",mapk1)\n",
    "print(\"NN 3\",mapk3)\n",
    "print(\"NN 5\",mapk5)"
   ]
  },
  {
   "cell_type": "code",
   "execution_count": 28,
   "metadata": {},
   "outputs": [
    {
     "name": "stdout",
     "output_type": "stream",
     "text": [
      "STS 1 0.23725834797891038\n",
      "STS 3 0.21568053114626048\n",
      "STS 5 0.19995313415348565\n"
     ]
    }
   ],
   "source": [
    "sts_mapk3, df = mapK(sts_result, can, [\"pred_1\", \"pred_2\",\"pred_3\",\"pred_4\",\"pred_5\"],3)\n",
    "sts_mapk5, df = mapK(sts_result, can, [\"pred_1\", \"pred_2\",\"pred_3\",\"pred_4\",\"pred_5\"],5)\n",
    "sts_mapk1, df = mapK(sts_result, can, [\"pred_1\", \"pred_2\",\"pred_3\",\"pred_4\",\"pred_5\"],1)\n",
    "print(\"STS 1\",sts_mapk1)\n",
    "print(\"STS 3\",sts_mapk3)\n",
    "print(\"STS 5\",sts_mapk5)"
   ]
  },
  {
   "cell_type": "code",
   "execution_count": 29,
   "metadata": {},
   "outputs": [
    {
     "name": "stdout",
     "output_type": "stream",
     "text": [
      "NLI 1 0.22300884955752212\n",
      "NLI 3 0.2081612586037365\n",
      "NLI 3 0.19296755162241888\n"
     ]
    }
   ],
   "source": [
    "nli_mapk3, df = mapK(nli_result, can, [\"pred_1\", \"pred_2\",\"pred_3\",\"pred_4\",\"pred_5\"],3)\n",
    "nli_mapk5, df = mapK(nli_result, can, [\"pred_1\", \"pred_2\",\"pred_3\",\"pred_4\",\"pred_5\"],5)\n",
    "nli_mapk1, df = mapK(nli_result, can, [\"pred_1\", \"pred_2\",\"pred_3\",\"pred_4\",\"pred_5\"],1)\n",
    "print(\"NLI 1\",nli_mapk1)\n",
    "print(\"NLI 3\",nli_mapk3)\n",
    "print(\"NLI 3\",nli_mapk5)"
   ]
  },
  {
   "cell_type": "code",
   "execution_count": 30,
   "metadata": {},
   "outputs": [
    {
     "name": "stdout",
     "output_type": "stream",
     "text": [
      "STS News 1 0.16981132075471697\n",
      "STS News 3 0.16561844863731653\n",
      "STS News 5 0.14257861635220126\n"
     ]
    }
   ],
   "source": [
    "sts_mapk3_news, df = mapK(sts_result_news, can, [\"pred_1\", \"pred_2\",\"pred_3\",\"pred_4\",\"pred_5\"],3)\n",
    "sts_mapk5_news, df = mapK(sts_result_news, can, [\"pred_1\", \"pred_2\",\"pred_3\",\"pred_4\",\"pred_5\"],5)\n",
    "sts_mapk1_news, df = mapK(sts_result_news, can, [\"pred_1\", \"pred_2\",\"pred_3\",\"pred_4\",\"pred_5\"],1)\n",
    "print(\"STS News 1\",sts_mapk1_news)\n",
    "print(\"STS News 3\",sts_mapk3_news)\n",
    "print(\"STS News 5\",sts_mapk5_news)"
   ]
  },
  {
   "cell_type": "code",
   "execution_count": 31,
   "metadata": {},
   "outputs": [
    {
     "name": "stdout",
     "output_type": "stream",
     "text": [
      "NN News 1 0.14634146341463414\n",
      "NN News 3 0.12059620596205961\n",
      "NN News 5 0.1189430894308943\n"
     ]
    }
   ],
   "source": [
    "nn_mapk3_news, df = mapK(nn_result_news, can, [\"pred_1\", \"pred_2\",\"pred_3\",\"pred_4\",\"pred_5\"],3)\n",
    "nn_mapk5_news, df = mapK(nn_result_news, can, [\"pred_1\", \"pred_2\",\"pred_3\",\"pred_4\",\"pred_5\"],5)\n",
    "nn_mapk1_news, df = mapK(nn_result_news, can, [\"pred_1\", \"pred_2\",\"pred_3\",\"pred_4\",\"pred_5\"],1)\n",
    "print(\"NN News 1\",nn_mapk1_news)\n",
    "print(\"NN News 3\",nn_mapk3_news)\n",
    "print(\"NN News 5\",nn_mapk5_news)"
   ]
  }
 ],
 "metadata": {
  "kernelspec": {
   "display_name": "myproject",
   "language": "python",
   "name": "myproject"
  },
  "language_info": {
   "codemirror_mode": {
    "name": "ipython",
    "version": 3
   },
   "file_extension": ".py",
   "mimetype": "text/x-python",
   "name": "python",
   "nbconvert_exporter": "python",
   "pygments_lexer": "ipython3",
   "version": "3.10.5"
  },
  "orig_nbformat": 4
 },
 "nbformat": 4,
 "nbformat_minor": 2
}
